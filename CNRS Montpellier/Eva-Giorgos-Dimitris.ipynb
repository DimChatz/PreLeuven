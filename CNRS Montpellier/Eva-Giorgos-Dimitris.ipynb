{
 "cells": [
  {
   "cell_type": "markdown",
   "metadata": {},
   "source": [
    "# Deep learning for force prediction during motion\n",
    "\n",
    "### importing libraries"
   ]
  },
  {
   "cell_type": "code",
   "execution_count": 28,
   "metadata": {},
   "outputs": [],
   "source": [
    "import pandas as pd\n",
    "import kerastuner\n",
    "import sys\n",
    "import scipy as sp\n",
    "from scipy import interpolate\n",
    "from scipy.stats import pearsonr\n",
    "import matplotlib.pyplot as plt\n",
    "import numpy as np\n",
    "import tensorflow as tf\n",
    "from tensorflow.keras.models import Sequential\n",
    "from tensorflow.keras.layers import Dropout, Dense, Conv2D, MaxPool2D, Flatten\n",
    "from tensorflow.keras.callbacks import ProgbarLogger\n",
    "import matplotlib.pyplot as plt\n",
    "from tensorflow.keras import regularizers\n",
    "import tensorflow.keras.models as models\n",
    "import tensorflow.keras.layers as layers\n",
    "from tensorflow.keras.layers import Dropout, LeakyReLU, BatchNormalization\n",
    "from tensorflow.keras.callbacks import ModelCheckpoint\n",
    "import os\n",
    "import glob\n",
    "import kerastuner as kt\n",
    "from kerastuner.tuners import RandomSearch\n",
    "from numpy import genfromtxt\n",
    "from sklearn.utils import shuffle\n",
    "from sklearn.model_selection import KFold\n",
    "from statsmodels.tsa.api import ExponentialSmoothing, SimpleExpSmoothing, Holt\n",
    "from tensorboard.plugins.hparams import api as hp\n",
    "\n",
    "%matplotlib inline"
   ]
  },
  {
   "cell_type": "markdown",
   "metadata": {},
   "source": [
    "### dataset handling"
   ]
  },
  {
   "cell_type": "code",
   "execution_count": 14,
   "metadata": {
    "scrolled": true
   },
   "outputs": [
    {
     "name": "stdout",
     "output_type": "stream",
     "text": [
      "0\n",
      "1\n",
      "2\n",
      "3\n",
      "4\n"
     ]
    },
    {
     "ename": "KeyboardInterrupt",
     "evalue": "",
     "output_type": "error",
     "traceback": [
      "\u001b[1;31m---------------------------------------------------------------------------\u001b[0m",
      "\u001b[1;31mKeyboardInterrupt\u001b[0m                         Traceback (most recent call last)",
      "\u001b[1;32m<ipython-input-14-4c7a36603f9e>\u001b[0m in \u001b[0;36m<module>\u001b[1;34m\u001b[0m\n\u001b[0;32m     39\u001b[0m     \u001b[1;32mfor\u001b[0m \u001b[0mj\u001b[0m \u001b[1;32min\u001b[0m \u001b[0mrange\u001b[0m\u001b[1;33m(\u001b[0m\u001b[1;36m100\u001b[0m\u001b[1;33m)\u001b[0m\u001b[1;33m:\u001b[0m\u001b[1;33m\u001b[0m\u001b[1;33m\u001b[0m\u001b[0m\n\u001b[0;32m     40\u001b[0m         \u001b[1;32mfor\u001b[0m \u001b[0mk\u001b[0m \u001b[1;32min\u001b[0m \u001b[0mrange\u001b[0m\u001b[1;33m(\u001b[0m\u001b[1;36m28\u001b[0m\u001b[1;33m)\u001b[0m\u001b[1;33m:\u001b[0m\u001b[1;33m\u001b[0m\u001b[1;33m\u001b[0m\u001b[0m\n\u001b[1;32m---> 41\u001b[1;33m                 \u001b[0mdataframes\u001b[0m\u001b[1;33m[\u001b[0m\u001b[0mi\u001b[0m\u001b[1;33m,\u001b[0m\u001b[0mj\u001b[0m\u001b[1;33m,\u001b[0m\u001b[0mk\u001b[0m\u001b[1;33m]\u001b[0m\u001b[1;33m=\u001b[0m\u001b[0mkin_input\u001b[0m\u001b[1;33m.\u001b[0m\u001b[0miloc\u001b[0m\u001b[1;33m[\u001b[0m\u001b[0mj\u001b[0m\u001b[1;33m]\u001b[0m\u001b[1;33m[\u001b[0m\u001b[0mk\u001b[0m\u001b[1;33m]\u001b[0m\u001b[1;33m\u001b[0m\u001b[1;33m\u001b[0m\u001b[0m\n\u001b[0m\u001b[0;32m     42\u001b[0m         \u001b[0mtarget_fx\u001b[0m\u001b[1;33m[\u001b[0m\u001b[0mi\u001b[0m\u001b[1;33m,\u001b[0m\u001b[0mj\u001b[0m\u001b[1;33m,\u001b[0m\u001b[1;36m0\u001b[0m\u001b[1;33m]\u001b[0m\u001b[1;33m=\u001b[0m\u001b[0mkin_target_fx\u001b[0m\u001b[1;33m.\u001b[0m\u001b[0miloc\u001b[0m\u001b[1;33m[\u001b[0m\u001b[0mj\u001b[0m\u001b[1;33m]\u001b[0m\u001b[1;33m[\u001b[0m\u001b[1;36m0\u001b[0m\u001b[1;33m]\u001b[0m\u001b[1;33m\u001b[0m\u001b[1;33m\u001b[0m\u001b[0m\n\u001b[0;32m     43\u001b[0m         \u001b[0mtarget_fy\u001b[0m\u001b[1;33m[\u001b[0m\u001b[0mi\u001b[0m\u001b[1;33m,\u001b[0m\u001b[0mj\u001b[0m\u001b[1;33m,\u001b[0m\u001b[1;36m0\u001b[0m\u001b[1;33m]\u001b[0m\u001b[1;33m=\u001b[0m\u001b[0mkin_target_fy\u001b[0m\u001b[1;33m.\u001b[0m\u001b[0miloc\u001b[0m\u001b[1;33m[\u001b[0m\u001b[0mj\u001b[0m\u001b[1;33m]\u001b[0m\u001b[1;33m[\u001b[0m\u001b[1;36m0\u001b[0m\u001b[1;33m]\u001b[0m\u001b[1;33m\u001b[0m\u001b[1;33m\u001b[0m\u001b[0m\n",
      "\u001b[1;32m~\\Anaconda3\\envs\\deeplearning\\lib\\site-packages\\pandas\\core\\indexing.py\u001b[0m in \u001b[0;36m__getitem__\u001b[1;34m(self, key)\u001b[0m\n\u001b[0;32m   1765\u001b[0m \u001b[1;33m\u001b[0m\u001b[0m\n\u001b[0;32m   1766\u001b[0m             \u001b[0mmaybe_callable\u001b[0m \u001b[1;33m=\u001b[0m \u001b[0mcom\u001b[0m\u001b[1;33m.\u001b[0m\u001b[0mapply_if_callable\u001b[0m\u001b[1;33m(\u001b[0m\u001b[0mkey\u001b[0m\u001b[1;33m,\u001b[0m \u001b[0mself\u001b[0m\u001b[1;33m.\u001b[0m\u001b[0mobj\u001b[0m\u001b[1;33m)\u001b[0m\u001b[1;33m\u001b[0m\u001b[1;33m\u001b[0m\u001b[0m\n\u001b[1;32m-> 1767\u001b[1;33m             \u001b[1;32mreturn\u001b[0m \u001b[0mself\u001b[0m\u001b[1;33m.\u001b[0m\u001b[0m_getitem_axis\u001b[0m\u001b[1;33m(\u001b[0m\u001b[0mmaybe_callable\u001b[0m\u001b[1;33m,\u001b[0m \u001b[0maxis\u001b[0m\u001b[1;33m=\u001b[0m\u001b[0maxis\u001b[0m\u001b[1;33m)\u001b[0m\u001b[1;33m\u001b[0m\u001b[1;33m\u001b[0m\u001b[0m\n\u001b[0m\u001b[0;32m   1768\u001b[0m \u001b[1;33m\u001b[0m\u001b[0m\n\u001b[0;32m   1769\u001b[0m     \u001b[1;32mdef\u001b[0m \u001b[0m_is_scalar_access\u001b[0m\u001b[1;33m(\u001b[0m\u001b[0mself\u001b[0m\u001b[1;33m,\u001b[0m \u001b[0mkey\u001b[0m\u001b[1;33m:\u001b[0m \u001b[0mTuple\u001b[0m\u001b[1;33m)\u001b[0m\u001b[1;33m:\u001b[0m\u001b[1;33m\u001b[0m\u001b[1;33m\u001b[0m\u001b[0m\n",
      "\u001b[1;32m~\\Anaconda3\\envs\\deeplearning\\lib\\site-packages\\pandas\\core\\indexing.py\u001b[0m in \u001b[0;36m_getitem_axis\u001b[1;34m(self, key, axis)\u001b[0m\n\u001b[0;32m   2137\u001b[0m             \u001b[0mself\u001b[0m\u001b[1;33m.\u001b[0m\u001b[0m_validate_integer\u001b[0m\u001b[1;33m(\u001b[0m\u001b[0mkey\u001b[0m\u001b[1;33m,\u001b[0m \u001b[0maxis\u001b[0m\u001b[1;33m)\u001b[0m\u001b[1;33m\u001b[0m\u001b[1;33m\u001b[0m\u001b[0m\n\u001b[0;32m   2138\u001b[0m \u001b[1;33m\u001b[0m\u001b[0m\n\u001b[1;32m-> 2139\u001b[1;33m             \u001b[1;32mreturn\u001b[0m \u001b[0mself\u001b[0m\u001b[1;33m.\u001b[0m\u001b[0m_get_loc\u001b[0m\u001b[1;33m(\u001b[0m\u001b[0mkey\u001b[0m\u001b[1;33m,\u001b[0m \u001b[0maxis\u001b[0m\u001b[1;33m=\u001b[0m\u001b[0maxis\u001b[0m\u001b[1;33m)\u001b[0m\u001b[1;33m\u001b[0m\u001b[1;33m\u001b[0m\u001b[0m\n\u001b[0m\u001b[0;32m   2140\u001b[0m \u001b[1;33m\u001b[0m\u001b[0m\n\u001b[0;32m   2141\u001b[0m     \u001b[1;31m# raise_missing is included for compat with the parent class signature\u001b[0m\u001b[1;33m\u001b[0m\u001b[1;33m\u001b[0m\u001b[1;33m\u001b[0m\u001b[0m\n",
      "\u001b[1;32m~\\Anaconda3\\envs\\deeplearning\\lib\\site-packages\\pandas\\core\\indexing.py\u001b[0m in \u001b[0;36m_get_loc\u001b[1;34m(self, key, axis)\u001b[0m\n\u001b[0;32m    625\u001b[0m \u001b[1;33m\u001b[0m\u001b[0m\n\u001b[0;32m    626\u001b[0m     \u001b[1;32mdef\u001b[0m \u001b[0m_get_loc\u001b[0m\u001b[1;33m(\u001b[0m\u001b[0mself\u001b[0m\u001b[1;33m,\u001b[0m \u001b[0mkey\u001b[0m\u001b[1;33m:\u001b[0m \u001b[0mint\u001b[0m\u001b[1;33m,\u001b[0m \u001b[0maxis\u001b[0m\u001b[1;33m:\u001b[0m \u001b[0mint\u001b[0m\u001b[1;33m)\u001b[0m\u001b[1;33m:\u001b[0m\u001b[1;33m\u001b[0m\u001b[1;33m\u001b[0m\u001b[0m\n\u001b[1;32m--> 627\u001b[1;33m         \u001b[1;32mreturn\u001b[0m \u001b[0mself\u001b[0m\u001b[1;33m.\u001b[0m\u001b[0mobj\u001b[0m\u001b[1;33m.\u001b[0m\u001b[0m_ixs\u001b[0m\u001b[1;33m(\u001b[0m\u001b[0mkey\u001b[0m\u001b[1;33m,\u001b[0m \u001b[0maxis\u001b[0m\u001b[1;33m=\u001b[0m\u001b[0maxis\u001b[0m\u001b[1;33m)\u001b[0m\u001b[1;33m\u001b[0m\u001b[1;33m\u001b[0m\u001b[0m\n\u001b[0m\u001b[0;32m    628\u001b[0m \u001b[1;33m\u001b[0m\u001b[0m\n\u001b[0;32m    629\u001b[0m     \u001b[1;32mdef\u001b[0m \u001b[0m_slice\u001b[0m\u001b[1;33m(\u001b[0m\u001b[0mself\u001b[0m\u001b[1;33m,\u001b[0m \u001b[0mobj\u001b[0m\u001b[1;33m,\u001b[0m \u001b[0maxis\u001b[0m\u001b[1;33m:\u001b[0m \u001b[0mint\u001b[0m\u001b[1;33m,\u001b[0m \u001b[0mkind\u001b[0m\u001b[1;33m=\u001b[0m\u001b[1;32mNone\u001b[0m\u001b[1;33m)\u001b[0m\u001b[1;33m:\u001b[0m\u001b[1;33m\u001b[0m\u001b[1;33m\u001b[0m\u001b[0m\n",
      "\u001b[1;32m~\\Anaconda3\\envs\\deeplearning\\lib\\site-packages\\pandas\\core\\frame.py\u001b[0m in \u001b[0;36m_ixs\u001b[1;34m(self, i, axis)\u001b[0m\n\u001b[0;32m   2741\u001b[0m                 \u001b[0mindex\u001b[0m\u001b[1;33m=\u001b[0m\u001b[0mself\u001b[0m\u001b[1;33m.\u001b[0m\u001b[0mcolumns\u001b[0m\u001b[1;33m,\u001b[0m\u001b[1;33m\u001b[0m\u001b[1;33m\u001b[0m\u001b[0m\n\u001b[0;32m   2742\u001b[0m                 \u001b[0mname\u001b[0m\u001b[1;33m=\u001b[0m\u001b[0mself\u001b[0m\u001b[1;33m.\u001b[0m\u001b[0mindex\u001b[0m\u001b[1;33m[\u001b[0m\u001b[0mi\u001b[0m\u001b[1;33m]\u001b[0m\u001b[1;33m,\u001b[0m\u001b[1;33m\u001b[0m\u001b[1;33m\u001b[0m\u001b[0m\n\u001b[1;32m-> 2743\u001b[1;33m                 \u001b[0mdtype\u001b[0m\u001b[1;33m=\u001b[0m\u001b[0mnew_values\u001b[0m\u001b[1;33m.\u001b[0m\u001b[0mdtype\u001b[0m\u001b[1;33m,\u001b[0m\u001b[1;33m\u001b[0m\u001b[1;33m\u001b[0m\u001b[0m\n\u001b[0m\u001b[0;32m   2744\u001b[0m             )\n\u001b[0;32m   2745\u001b[0m             \u001b[0mresult\u001b[0m\u001b[1;33m.\u001b[0m\u001b[0m_set_is_copy\u001b[0m\u001b[1;33m(\u001b[0m\u001b[0mself\u001b[0m\u001b[1;33m,\u001b[0m \u001b[0mcopy\u001b[0m\u001b[1;33m=\u001b[0m\u001b[0mcopy\u001b[0m\u001b[1;33m)\u001b[0m\u001b[1;33m\u001b[0m\u001b[1;33m\u001b[0m\u001b[0m\n",
      "\u001b[1;32m~\\Anaconda3\\envs\\deeplearning\\lib\\site-packages\\pandas\\core\\series.py\u001b[0m in \u001b[0;36m__init__\u001b[1;34m(self, data, index, dtype, name, copy, fastpath)\u001b[0m\n\u001b[0;32m    303\u001b[0m                     \u001b[0mdata\u001b[0m \u001b[1;33m=\u001b[0m \u001b[0mdata\u001b[0m\u001b[1;33m.\u001b[0m\u001b[0mcopy\u001b[0m\u001b[1;33m(\u001b[0m\u001b[1;33m)\u001b[0m\u001b[1;33m\u001b[0m\u001b[1;33m\u001b[0m\u001b[0m\n\u001b[0;32m    304\u001b[0m             \u001b[1;32melse\u001b[0m\u001b[1;33m:\u001b[0m\u001b[1;33m\u001b[0m\u001b[1;33m\u001b[0m\u001b[0m\n\u001b[1;32m--> 305\u001b[1;33m                 \u001b[0mdata\u001b[0m \u001b[1;33m=\u001b[0m \u001b[0msanitize_array\u001b[0m\u001b[1;33m(\u001b[0m\u001b[0mdata\u001b[0m\u001b[1;33m,\u001b[0m \u001b[0mindex\u001b[0m\u001b[1;33m,\u001b[0m \u001b[0mdtype\u001b[0m\u001b[1;33m,\u001b[0m \u001b[0mcopy\u001b[0m\u001b[1;33m,\u001b[0m \u001b[0mraise_cast_failure\u001b[0m\u001b[1;33m=\u001b[0m\u001b[1;32mTrue\u001b[0m\u001b[1;33m)\u001b[0m\u001b[1;33m\u001b[0m\u001b[1;33m\u001b[0m\u001b[0m\n\u001b[0m\u001b[0;32m    306\u001b[0m \u001b[1;33m\u001b[0m\u001b[0m\n\u001b[0;32m    307\u001b[0m                 \u001b[0mdata\u001b[0m \u001b[1;33m=\u001b[0m \u001b[0mSingleBlockManager\u001b[0m\u001b[1;33m(\u001b[0m\u001b[0mdata\u001b[0m\u001b[1;33m,\u001b[0m \u001b[0mindex\u001b[0m\u001b[1;33m,\u001b[0m \u001b[0mfastpath\u001b[0m\u001b[1;33m=\u001b[0m\u001b[1;32mTrue\u001b[0m\u001b[1;33m)\u001b[0m\u001b[1;33m\u001b[0m\u001b[1;33m\u001b[0m\u001b[0m\n",
      "\u001b[1;32m~\\Anaconda3\\envs\\deeplearning\\lib\\site-packages\\pandas\\core\\construction.py\u001b[0m in \u001b[0;36msanitize_array\u001b[1;34m(data, index, dtype, copy, raise_cast_failure)\u001b[0m\n\u001b[0;32m    484\u001b[0m             \u001b[0msubarr\u001b[0m \u001b[1;33m=\u001b[0m \u001b[0mcom\u001b[0m\u001b[1;33m.\u001b[0m\u001b[0masarray_tuplesafe\u001b[0m\u001b[1;33m(\u001b[0m\u001b[0mdata\u001b[0m\u001b[1;33m,\u001b[0m \u001b[0mdtype\u001b[0m\u001b[1;33m=\u001b[0m\u001b[0mdtype\u001b[0m\u001b[1;33m)\u001b[0m\u001b[1;33m\u001b[0m\u001b[1;33m\u001b[0m\u001b[0m\n\u001b[0;32m    485\u001b[0m \u001b[1;33m\u001b[0m\u001b[0m\n\u001b[1;32m--> 486\u001b[1;33m     \u001b[1;32mif\u001b[0m \u001b[1;32mnot\u001b[0m \u001b[1;33m(\u001b[0m\u001b[0mis_extension_array_dtype\u001b[0m\u001b[1;33m(\u001b[0m\u001b[0msubarr\u001b[0m\u001b[1;33m.\u001b[0m\u001b[0mdtype\u001b[0m\u001b[1;33m)\u001b[0m \u001b[1;32mor\u001b[0m \u001b[0mis_extension_array_dtype\u001b[0m\u001b[1;33m(\u001b[0m\u001b[0mdtype\u001b[0m\u001b[1;33m)\u001b[0m\u001b[1;33m)\u001b[0m\u001b[1;33m:\u001b[0m\u001b[1;33m\u001b[0m\u001b[1;33m\u001b[0m\u001b[0m\n\u001b[0m\u001b[0;32m    487\u001b[0m         \u001b[1;31m# This is to prevent mixed-type Series getting all casted to\u001b[0m\u001b[1;33m\u001b[0m\u001b[1;33m\u001b[0m\u001b[1;33m\u001b[0m\u001b[0m\n\u001b[0;32m    488\u001b[0m         \u001b[1;31m# NumPy string type, e.g. NaN --> '-1#IND'.\u001b[0m\u001b[1;33m\u001b[0m\u001b[1;33m\u001b[0m\u001b[1;33m\u001b[0m\u001b[0m\n",
      "\u001b[1;32m~\\Anaconda3\\envs\\deeplearning\\lib\\site-packages\\pandas\\core\\dtypes\\common.py\u001b[0m in \u001b[0;36mis_extension_array_dtype\u001b[1;34m(arr_or_dtype)\u001b[0m\n\u001b[0;32m   1609\u001b[0m     \"\"\"\n\u001b[0;32m   1610\u001b[0m     \u001b[0mdtype\u001b[0m \u001b[1;33m=\u001b[0m \u001b[0mgetattr\u001b[0m\u001b[1;33m(\u001b[0m\u001b[0marr_or_dtype\u001b[0m\u001b[1;33m,\u001b[0m \u001b[1;34m\"dtype\"\u001b[0m\u001b[1;33m,\u001b[0m \u001b[0marr_or_dtype\u001b[0m\u001b[1;33m)\u001b[0m\u001b[1;33m\u001b[0m\u001b[1;33m\u001b[0m\u001b[0m\n\u001b[1;32m-> 1611\u001b[1;33m     \u001b[1;32mreturn\u001b[0m \u001b[0misinstance\u001b[0m\u001b[1;33m(\u001b[0m\u001b[0mdtype\u001b[0m\u001b[1;33m,\u001b[0m \u001b[0mExtensionDtype\u001b[0m\u001b[1;33m)\u001b[0m \u001b[1;32mor\u001b[0m \u001b[0mregistry\u001b[0m\u001b[1;33m.\u001b[0m\u001b[0mfind\u001b[0m\u001b[1;33m(\u001b[0m\u001b[0mdtype\u001b[0m\u001b[1;33m)\u001b[0m \u001b[1;32mis\u001b[0m \u001b[1;32mnot\u001b[0m \u001b[1;32mNone\u001b[0m\u001b[1;33m\u001b[0m\u001b[1;33m\u001b[0m\u001b[0m\n\u001b[0m\u001b[0;32m   1612\u001b[0m \u001b[1;33m\u001b[0m\u001b[0m\n\u001b[0;32m   1613\u001b[0m \u001b[1;33m\u001b[0m\u001b[0m\n",
      "\u001b[1;32m~\\Anaconda3\\envs\\deeplearning\\lib\\site-packages\\pandas\\core\\dtypes\\dtypes.py\u001b[0m in \u001b[0;36mfind\u001b[1;34m(self, dtype)\u001b[0m\n\u001b[0;32m     85\u001b[0m         \u001b[1;32mreturn\u001b[0m \u001b[0mthe\u001b[0m \u001b[0mfirst\u001b[0m \u001b[0mmatching\u001b[0m \u001b[0mdtype\u001b[0m\u001b[1;33m,\u001b[0m \u001b[0motherwise\u001b[0m \u001b[1;32mreturn\u001b[0m \u001b[1;32mNone\u001b[0m\u001b[1;33m\u001b[0m\u001b[1;33m\u001b[0m\u001b[0m\n\u001b[0;32m     86\u001b[0m         \"\"\"\n\u001b[1;32m---> 87\u001b[1;33m         \u001b[1;32mif\u001b[0m \u001b[1;32mnot\u001b[0m \u001b[0misinstance\u001b[0m\u001b[1;33m(\u001b[0m\u001b[0mdtype\u001b[0m\u001b[1;33m,\u001b[0m \u001b[0mstr\u001b[0m\u001b[1;33m)\u001b[0m\u001b[1;33m:\u001b[0m\u001b[1;33m\u001b[0m\u001b[1;33m\u001b[0m\u001b[0m\n\u001b[0m\u001b[0;32m     88\u001b[0m             \u001b[0mdtype_type\u001b[0m \u001b[1;33m=\u001b[0m \u001b[0mdtype\u001b[0m\u001b[1;33m\u001b[0m\u001b[1;33m\u001b[0m\u001b[0m\n\u001b[0;32m     89\u001b[0m             \u001b[1;32mif\u001b[0m \u001b[1;32mnot\u001b[0m \u001b[0misinstance\u001b[0m\u001b[1;33m(\u001b[0m\u001b[0mdtype\u001b[0m\u001b[1;33m,\u001b[0m \u001b[0mtype\u001b[0m\u001b[1;33m)\u001b[0m\u001b[1;33m:\u001b[0m\u001b[1;33m\u001b[0m\u001b[1;33m\u001b[0m\u001b[0m\n",
      "\u001b[1;31mKeyboardInterrupt\u001b[0m: "
     ]
    }
   ],
   "source": [
    "#initiate path of datafile\n",
    "path = r'C:\\Users\\xatzo\\LocalDisk\\Data'  \n",
    "\n",
    "#put all files together\n",
    "all_files = glob.glob(os.path.join(path, \"*.csv\"))# advisable to use os.path.join,make concatenation OS independent\n",
    "\n",
    "#specify the length for interpolation\n",
    "new_length = 100\n",
    "\n",
    "#dataframes final\n",
    "dataframes=np.zeros((1101,100,28))\n",
    "target_fx=np.zeros((1101,100,1))\n",
    "target_fy=np.zeros((1101,100,1))\n",
    "target_fz=np.zeros((1101,100,1))\n",
    "\n",
    "for i,f in enumerate(all_files):\n",
    "    print(i)\n",
    "    df= pd.read_csv(f)\n",
    "    \n",
    "    #drop bad columns - CHECK\n",
    "    df=df.drop(df.loc[:,['med_cond_adduction_r','lat_cond_adduction_r','mtp_angle_r','med_cond_adduction_l',\n",
    "                        'lat_cond_adduction_l','mtp_angle_l','lat_cond_joint_r_on_lat_cond_r_in_lat_cond_r_fx']],axis=1)\n",
    "    df=df.drop(df.iloc[:,[0]],axis=1)\n",
    "    \n",
    "    #interpolation\n",
    "    x = np.array(range(0,len(df)))\n",
    "    y = df.values\n",
    "    new_x = np.linspace(0, len(df)-1, new_length)\n",
    "    kin = pd.DataFrame(sp.interpolate.interp1d(x, y, axis=0, kind='quadratic')(new_x),columns=df.columns)\n",
    "    kin=(kin-kin.min())/(kin.max()-kin.min())\n",
    "    \n",
    "    #creating target and training\n",
    "    kin_target_fx=kin[['med_cond_joint_r_on_med_cond_r_in_med_cond_r_fx']]\n",
    "    kin_target_fy=kin[['med_cond_joint_r_on_med_cond_r_in_med_cond_r_fy']]\n",
    "    kin_target_fz=kin[['med_cond_joint_r_on_med_cond_r_in_med_cond_r_fz']]\n",
    "    kin_input=kin.drop(kin[['med_cond_joint_r_on_med_cond_r_in_med_cond_r_fx',\n",
    "    'med_cond_joint_r_on_med_cond_r_in_med_cond_r_fy','med_cond_joint_r_on_med_cond_r_in_med_cond_r_fz']],axis=1)\n",
    "    \n",
    "    for j in range(100):\n",
    "        for k in range(28):\n",
    "                dataframes[i,j,k]=kin_input.iloc[j][k]\n",
    "        target_fx[i,j,0]=kin_target_fx.iloc[j][0]\n",
    "        target_fy[i,j,0]=kin_target_fy.iloc[j][0]\n",
    "        target_fz[i,j,0]=kin_target_fz.iloc[j][0]"
   ]
  },
  {
   "cell_type": "markdown",
   "metadata": {},
   "source": [
    "### write into csv files"
   ]
  },
  {
   "cell_type": "code",
   "execution_count": 22,
   "metadata": {},
   "outputs": [
    {
     "ename": "ValueError",
     "evalue": "cannot reshape array of size 1 into shape (110100,1)",
     "output_type": "error",
     "traceback": [
      "\u001b[1;31m---------------------------------------------------------------------------\u001b[0m",
      "\u001b[1;31mValueError\u001b[0m                                Traceback (most recent call last)",
      "\u001b[1;32m<ipython-input-22-2921d9d15ed5>\u001b[0m in \u001b[0;36m<module>\u001b[1;34m\u001b[0m\n\u001b[0;32m      1\u001b[0m \u001b[0mdataframes2\u001b[0m\u001b[1;33m=\u001b[0m\u001b[0mnp\u001b[0m\u001b[1;33m.\u001b[0m\u001b[0mreshape\u001b[0m\u001b[1;33m(\u001b[0m\u001b[0mdataframes\u001b[0m\u001b[1;33m,\u001b[0m\u001b[1;33m(\u001b[0m\u001b[1;36m110100\u001b[0m\u001b[1;33m,\u001b[0m\u001b[1;36m28\u001b[0m\u001b[1;33m)\u001b[0m\u001b[1;33m)\u001b[0m\u001b[1;33m\u001b[0m\u001b[1;33m\u001b[0m\u001b[0m\n\u001b[0;32m      2\u001b[0m \u001b[0mnp\u001b[0m\u001b[1;33m.\u001b[0m\u001b[0msavetxt\u001b[0m\u001b[1;33m(\u001b[0m\u001b[1;34m\"dataframes.csv\"\u001b[0m\u001b[1;33m,\u001b[0m \u001b[0mdataframes2\u001b[0m\u001b[1;33m,\u001b[0m \u001b[0mdelimiter\u001b[0m\u001b[1;33m=\u001b[0m\u001b[1;34m\",\"\u001b[0m\u001b[1;33m)\u001b[0m\u001b[1;33m\u001b[0m\u001b[1;33m\u001b[0m\u001b[0m\n\u001b[1;32m----> 3\u001b[1;33m \u001b[0mtarget_fx2\u001b[0m\u001b[1;33m=\u001b[0m\u001b[0mnp\u001b[0m\u001b[1;33m.\u001b[0m\u001b[0mreshape\u001b[0m\u001b[1;33m(\u001b[0m\u001b[0mtarget_fx\u001b[0m\u001b[1;33m,\u001b[0m\u001b[1;33m(\u001b[0m\u001b[1;36m110100\u001b[0m\u001b[1;33m,\u001b[0m\u001b[1;36m1\u001b[0m\u001b[1;33m)\u001b[0m\u001b[1;33m)\u001b[0m\u001b[1;33m\u001b[0m\u001b[1;33m\u001b[0m\u001b[0m\n\u001b[0m\u001b[0;32m      4\u001b[0m \u001b[0mnp\u001b[0m\u001b[1;33m.\u001b[0m\u001b[0msavetxt\u001b[0m\u001b[1;33m(\u001b[0m\u001b[1;34m\"target_fx.csv\"\u001b[0m\u001b[1;33m,\u001b[0m \u001b[0mtarget_fx2\u001b[0m\u001b[1;33m,\u001b[0m \u001b[0mdelimiter\u001b[0m\u001b[1;33m=\u001b[0m\u001b[1;34m\",\"\u001b[0m\u001b[1;33m)\u001b[0m\u001b[1;33m\u001b[0m\u001b[1;33m\u001b[0m\u001b[0m\n\u001b[0;32m      5\u001b[0m \u001b[0mtarget_fy2\u001b[0m\u001b[1;33m=\u001b[0m\u001b[0mnp\u001b[0m\u001b[1;33m.\u001b[0m\u001b[0mreshape\u001b[0m\u001b[1;33m(\u001b[0m\u001b[0mtarget_fy\u001b[0m\u001b[1;33m,\u001b[0m\u001b[1;33m(\u001b[0m\u001b[1;36m110100\u001b[0m\u001b[1;33m,\u001b[0m\u001b[1;36m1\u001b[0m\u001b[1;33m)\u001b[0m\u001b[1;33m)\u001b[0m\u001b[1;33m\u001b[0m\u001b[1;33m\u001b[0m\u001b[0m\n",
      "\u001b[1;32m<__array_function__ internals>\u001b[0m in \u001b[0;36mreshape\u001b[1;34m(*args, **kwargs)\u001b[0m\n",
      "\u001b[1;32m~\\Anaconda3\\envs\\deeplearning\\lib\\site-packages\\numpy\\core\\fromnumeric.py\u001b[0m in \u001b[0;36mreshape\u001b[1;34m(a, newshape, order)\u001b[0m\n\u001b[0;32m    299\u001b[0m            [5, 6]])\n\u001b[0;32m    300\u001b[0m     \"\"\"\n\u001b[1;32m--> 301\u001b[1;33m     \u001b[1;32mreturn\u001b[0m \u001b[0m_wrapfunc\u001b[0m\u001b[1;33m(\u001b[0m\u001b[0ma\u001b[0m\u001b[1;33m,\u001b[0m \u001b[1;34m'reshape'\u001b[0m\u001b[1;33m,\u001b[0m \u001b[0mnewshape\u001b[0m\u001b[1;33m,\u001b[0m \u001b[0morder\u001b[0m\u001b[1;33m=\u001b[0m\u001b[0morder\u001b[0m\u001b[1;33m)\u001b[0m\u001b[1;33m\u001b[0m\u001b[1;33m\u001b[0m\u001b[0m\n\u001b[0m\u001b[0;32m    302\u001b[0m \u001b[1;33m\u001b[0m\u001b[0m\n\u001b[0;32m    303\u001b[0m \u001b[1;33m\u001b[0m\u001b[0m\n",
      "\u001b[1;32m~\\Anaconda3\\envs\\deeplearning\\lib\\site-packages\\numpy\\core\\fromnumeric.py\u001b[0m in \u001b[0;36m_wrapfunc\u001b[1;34m(obj, method, *args, **kwds)\u001b[0m\n\u001b[0;32m     56\u001b[0m     \u001b[0mbound\u001b[0m \u001b[1;33m=\u001b[0m \u001b[0mgetattr\u001b[0m\u001b[1;33m(\u001b[0m\u001b[0mobj\u001b[0m\u001b[1;33m,\u001b[0m \u001b[0mmethod\u001b[0m\u001b[1;33m,\u001b[0m \u001b[1;32mNone\u001b[0m\u001b[1;33m)\u001b[0m\u001b[1;33m\u001b[0m\u001b[1;33m\u001b[0m\u001b[0m\n\u001b[0;32m     57\u001b[0m     \u001b[1;32mif\u001b[0m \u001b[0mbound\u001b[0m \u001b[1;32mis\u001b[0m \u001b[1;32mNone\u001b[0m\u001b[1;33m:\u001b[0m\u001b[1;33m\u001b[0m\u001b[1;33m\u001b[0m\u001b[0m\n\u001b[1;32m---> 58\u001b[1;33m         \u001b[1;32mreturn\u001b[0m \u001b[0m_wrapit\u001b[0m\u001b[1;33m(\u001b[0m\u001b[0mobj\u001b[0m\u001b[1;33m,\u001b[0m \u001b[0mmethod\u001b[0m\u001b[1;33m,\u001b[0m \u001b[1;33m*\u001b[0m\u001b[0margs\u001b[0m\u001b[1;33m,\u001b[0m \u001b[1;33m**\u001b[0m\u001b[0mkwds\u001b[0m\u001b[1;33m)\u001b[0m\u001b[1;33m\u001b[0m\u001b[1;33m\u001b[0m\u001b[0m\n\u001b[0m\u001b[0;32m     59\u001b[0m \u001b[1;33m\u001b[0m\u001b[0m\n\u001b[0;32m     60\u001b[0m     \u001b[1;32mtry\u001b[0m\u001b[1;33m:\u001b[0m\u001b[1;33m\u001b[0m\u001b[1;33m\u001b[0m\u001b[0m\n",
      "\u001b[1;32m~\\Anaconda3\\envs\\deeplearning\\lib\\site-packages\\numpy\\core\\fromnumeric.py\u001b[0m in \u001b[0;36m_wrapit\u001b[1;34m(obj, method, *args, **kwds)\u001b[0m\n\u001b[0;32m     45\u001b[0m     \u001b[1;32mexcept\u001b[0m \u001b[0mAttributeError\u001b[0m\u001b[1;33m:\u001b[0m\u001b[1;33m\u001b[0m\u001b[1;33m\u001b[0m\u001b[0m\n\u001b[0;32m     46\u001b[0m         \u001b[0mwrap\u001b[0m \u001b[1;33m=\u001b[0m \u001b[1;32mNone\u001b[0m\u001b[1;33m\u001b[0m\u001b[1;33m\u001b[0m\u001b[0m\n\u001b[1;32m---> 47\u001b[1;33m     \u001b[0mresult\u001b[0m \u001b[1;33m=\u001b[0m \u001b[0mgetattr\u001b[0m\u001b[1;33m(\u001b[0m\u001b[0masarray\u001b[0m\u001b[1;33m(\u001b[0m\u001b[0mobj\u001b[0m\u001b[1;33m)\u001b[0m\u001b[1;33m,\u001b[0m \u001b[0mmethod\u001b[0m\u001b[1;33m)\u001b[0m\u001b[1;33m(\u001b[0m\u001b[1;33m*\u001b[0m\u001b[0margs\u001b[0m\u001b[1;33m,\u001b[0m \u001b[1;33m**\u001b[0m\u001b[0mkwds\u001b[0m\u001b[1;33m)\u001b[0m\u001b[1;33m\u001b[0m\u001b[1;33m\u001b[0m\u001b[0m\n\u001b[0m\u001b[0;32m     48\u001b[0m     \u001b[1;32mif\u001b[0m \u001b[0mwrap\u001b[0m\u001b[1;33m:\u001b[0m\u001b[1;33m\u001b[0m\u001b[1;33m\u001b[0m\u001b[0m\n\u001b[0;32m     49\u001b[0m         \u001b[1;32mif\u001b[0m \u001b[1;32mnot\u001b[0m \u001b[0misinstance\u001b[0m\u001b[1;33m(\u001b[0m\u001b[0mresult\u001b[0m\u001b[1;33m,\u001b[0m \u001b[0mmu\u001b[0m\u001b[1;33m.\u001b[0m\u001b[0mndarray\u001b[0m\u001b[1;33m)\u001b[0m\u001b[1;33m:\u001b[0m\u001b[1;33m\u001b[0m\u001b[1;33m\u001b[0m\u001b[0m\n",
      "\u001b[1;31mValueError\u001b[0m: cannot reshape array of size 1 into shape (110100,1)"
     ]
    }
   ],
   "source": [
    "dataframes2=np.reshape(dataframes,(110100,28))\n",
    "np.savetxt(\"dataframes.csv\", dataframes2, delimiter=\",\")\n",
    "target_fx2=np.reshape(target_fx,(110100,1))\n",
    "np.savetxt(\"target_fx.csv\", target_fx2, delimiter=\",\")\n",
    "target_fy2=np.reshape(target_fy,(110100,1))\n",
    "np.savetxt(\"target_fy.csv\", target_fy2, delimiter=\",\")\n",
    "target_fz2=np.reshape(target_fz,(110100,1))\n",
    "np.savetxt(\"target_fz.csv\", target_fz2, delimiter=\",\")"
   ]
  },
  {
   "cell_type": "markdown",
   "metadata": {},
   "source": [
    "### read from csv files"
   ]
  },
  {
   "cell_type": "code",
   "execution_count": 6,
   "metadata": {},
   "outputs": [],
   "source": [
    "dataframes = genfromtxt('dataframes.csv', delimiter=',')\n",
    "target_fx = genfromtxt('target_fx.csv', delimiter=',')\n",
    "target_fy = genfromtxt('target_fx.csv', delimiter=',')\n",
    "target_fz = genfromtxt('target_fx.csv', delimiter=',')"
   ]
  },
  {
   "cell_type": "markdown",
   "metadata": {},
   "source": [
    "### reshape back"
   ]
  },
  {
   "cell_type": "code",
   "execution_count": 7,
   "metadata": {},
   "outputs": [],
   "source": [
    "np.array(dataframes)\n",
    "dataframes=np.reshape(dataframes,(1101,100,28))\n",
    "np.array(target_fx)\n",
    "target_fx=np.reshape(target_fx,(1101,100,1))\n",
    "np.array(target_fy)\n",
    "target_fy=np.reshape(target_fy,(1101,100,1))\n",
    "np.array(target_fx)\n",
    "target_fz=np.reshape(target_fz,(1101,100,1))"
   ]
  },
  {
   "cell_type": "markdown",
   "metadata": {},
   "source": [
    "shuffling"
   ]
  },
  {
   "cell_type": "code",
   "execution_count": 8,
   "metadata": {},
   "outputs": [
    {
     "name": "stdout",
     "output_type": "stream",
     "text": [
      "(1101, 100, 28)\n"
     ]
    }
   ],
   "source": [
    "np.random.shuffle(dataframes)\n",
    "print(np.shape(dataframes))\n",
    "np.random.shuffle(target_fx)\n",
    "np.random.shuffle(target_fy)\n",
    "np.random.shuffle(target_fz)"
   ]
  },
  {
   "cell_type": "markdown",
   "metadata": {},
   "source": [
    "Smoothing"
   ]
  },
  {
   "cell_type": "code",
   "execution_count": 9,
   "metadata": {},
   "outputs": [],
   "source": [
    "fit_data = sp.ndimage.gaussian_filter(dataframes,sigma=(0,20,0))"
   ]
  },
  {
   "cell_type": "markdown",
   "metadata": {},
   "source": [
    "## deep learning model"
   ]
  },
  {
   "cell_type": "code",
   "execution_count": 27,
   "metadata": {},
   "outputs": [
    {
     "name": "stdout",
     "output_type": "stream",
     "text": [
      "1\n"
     ]
    },
    {
     "ename": "AttributeError",
     "evalue": "'list' object has no attribute 'fit'",
     "output_type": "error",
     "traceback": [
      "\u001b[1;31m---------------------------------------------------------------------------\u001b[0m",
      "\u001b[1;31mAttributeError\u001b[0m                            Traceback (most recent call last)",
      "\u001b[1;32m<ipython-input-27-8fcc77ddb5dc>\u001b[0m in \u001b[0;36m<module>\u001b[1;34m\u001b[0m\n\u001b[0;32m     52\u001b[0m \u001b[1;33m\u001b[0m\u001b[0m\n\u001b[0;32m     53\u001b[0m     \u001b[1;31m#train model and output\u001b[0m\u001b[1;33m\u001b[0m\u001b[1;33m\u001b[0m\u001b[1;33m\u001b[0m\u001b[0m\n\u001b[1;32m---> 54\u001b[1;33m     history = model.fit(\n\u001b[0m\u001b[0;32m     55\u001b[0m         \u001b[0mx_train\u001b[0m\u001b[1;33m,\u001b[0m\u001b[1;33m\u001b[0m\u001b[1;33m\u001b[0m\u001b[0m\n\u001b[0;32m     56\u001b[0m         \u001b[0my_train\u001b[0m\u001b[1;33m,\u001b[0m\u001b[1;33m\u001b[0m\u001b[1;33m\u001b[0m\u001b[0m\n",
      "\u001b[1;31mAttributeError\u001b[0m: 'list' object has no attribute 'fit'"
     ]
    }
   ],
   "source": [
    "#building model\n",
    "def build_model():\n",
    "    model = models.Sequential()\n",
    "    model.add(layers.InputLayer(input_shape=(100,28)))\n",
    "    model.add(layers.Dense(28,activation = 'relu'))\n",
    "    model.add(BatchNormalization(momentum = 0.99))\n",
    "    model.add(Dropout(0.1))\n",
    "    model.add(layers.Conv1D(filters=16,kernel_size=3,strides=1,padding='same',activation='relu'))\n",
    "    model.add(BatchNormalization(momentum = 0.99))\n",
    "    model.add(Dropout(0.1))\n",
    "    model.add(layers.Conv1D(filters=32,kernel_size=3,strides=1,padding='same',activation='relu'))\n",
    "    model.add(BatchNormalization(momentum = 0.99))\n",
    "    model.add(Dropout(0.1))\n",
    "    model.add(layers.Conv1D(filters=64,kernel_size=3,strides=1,padding='same',activation='relu'))\n",
    "    model.add(BatchNormalization(momentum = 0.99))\n",
    "    model.add(Dropout(0.1))\n",
    "    model.add(layers.Dense(64,activation = 'relu'))\n",
    "    model.add(Dropout(0.1))\n",
    "    model.add(layers.Dense(1, activation = 'linear'))\n",
    "    \n",
    "    model.compile(\n",
    "        optimizer='adam',\n",
    "        loss=['mean_squared_error'],\n",
    "        metrics=[tf.keras.metrics.RootMeanSquaredError()]\n",
    "    )\n",
    "    return model\n",
    "\n",
    "\n",
    "count=0\n",
    "checkpoint_path = \"C:/Users/xatzo/Desktop/StoreWeight/cv_force_X\"+str(count)+\".ckpt\"\n",
    "checkpoint_dir = os.path.dirname(checkpoint_path)\n",
    "cp_callback = tf.keras.callbacks.ModelCheckpoint(filepath=checkpoint_path,\n",
    "                                                     save_weights_only=True,\n",
    "                                                     verbose=1)\n",
    "    \n",
    "for train_index,test_index in KFold(3).split(dataframes):\n",
    "    count+=1\n",
    "    print(count)\n",
    "    checkpoint_path = \"C:/Users/xatzo/Desktop/StoreWeight/cv\"+str(count)+\".ckpt\"\n",
    "    checkpoint_dir = os.path.dirname(checkpoint_path)\n",
    "    cp_callback = tf.keras.callbacks.ModelCheckpoint(filepath=checkpoint_path,\n",
    "                                                     save_weights_only=True,\n",
    "                                                     verbose=1)\n",
    "    x_train,x_test=dataframes[train_index,:,:],dataframes[test_index,:,:]\n",
    "    y_train,y_test=target_fx[train_index,:,:],target_fx[test_index,:,:]\n",
    "    \n",
    "    \n",
    "    model = build_model()\n",
    "    model = MODEL\n",
    "    \n",
    "    \n",
    "\n",
    "    #train model and output\n",
    "    history = model.fit(\n",
    "        x_train,\n",
    "        y_train,\n",
    "        epochs=200,\n",
    "        validation_data=(\n",
    "            x_test,\n",
    "            y_test),\n",
    "        callbacks=[tf.keras.callbacks.EarlyStopping(\n",
    "            monitor = 'val_loss',\n",
    "            min_delta=0.00001,\n",
    "            patience = 5),\n",
    "            ProgbarLogger(count_mode='samples',stateful_metrics=None)\n",
    "                   ,cp_callback\n",
    "        ]\n",
    "    )\n",
    "\n",
    "    predict_n = model.predict(x_test)\n",
    "    predict_n = predict_n.astype(np.float64)\n",
    "    corr_value, p_value = pearsonr(predict_n.ravel(), y_test.ravel())   \n",
    "    print(corr_value,round(p_value,4))\n",
    "    print(\"correlation:\"+str(corr_value)+\" p_value:\"+str(p_value))\n",
    "    fig = plt.figure(figsize=(20, 20))\n",
    "    plot_corr(y_test.ravel(), predict_n.ravel(),corr_value)"
   ]
  },
  {
   "cell_type": "code",
   "execution_count": 12,
   "metadata": {},
   "outputs": [
    {
     "name": "stdout",
     "output_type": "stream",
     "text": [
      "(367, 100, 1)\n",
      "(367, 100, 1)\n",
      "float64\n",
      "float64\n"
     ]
    }
   ],
   "source": [
    "#model.summary()\n",
    "#print(predict_n)\n",
    "print(np.shape(predict_n))\n",
    "print(np.shape(y_test))\n",
    "print(predict_n.dtype)\n",
    "print(y_test.dtype)"
   ]
  },
  {
   "cell_type": "markdown",
   "metadata": {},
   "source": [
    "# Corr-calcs"
   ]
  },
  {
   "cell_type": "code",
   "execution_count": 13,
   "metadata": {},
   "outputs": [
    {
     "ename": "ValueError",
     "evalue": "cannot reshape array of size 36700 into shape (36700,3,3)",
     "output_type": "error",
     "traceback": [
      "\u001b[1;31m---------------------------------------------------------------------------\u001b[0m",
      "\u001b[1;31mValueError\u001b[0m                                Traceback (most recent call last)",
      "\u001b[1;32m<ipython-input-13-c7733860e7eb>\u001b[0m in \u001b[0;36m<module>\u001b[1;34m\u001b[0m\n\u001b[1;32m----> 1\u001b[1;33m \u001b[0mpredict_n\u001b[0m\u001b[1;33m=\u001b[0m\u001b[0mnp\u001b[0m\u001b[1;33m.\u001b[0m\u001b[0mreshape\u001b[0m\u001b[1;33m(\u001b[0m\u001b[0mpredict_n\u001b[0m\u001b[1;33m,\u001b[0m\u001b[1;33m(\u001b[0m\u001b[1;36m36700\u001b[0m\u001b[1;33m,\u001b[0m\u001b[1;36m3\u001b[0m\u001b[1;33m,\u001b[0m\u001b[1;36m3\u001b[0m\u001b[1;33m)\u001b[0m\u001b[1;33m)\u001b[0m\u001b[1;33m\u001b[0m\u001b[1;33m\u001b[0m\u001b[0m\n\u001b[0m\u001b[0;32m      2\u001b[0m \u001b[0mval_d\u001b[0m\u001b[1;33m=\u001b[0m\u001b[0mnp\u001b[0m\u001b[1;33m.\u001b[0m\u001b[0mreshape\u001b[0m\u001b[1;33m(\u001b[0m\u001b[0mval_d\u001b[0m\u001b[1;33m,\u001b[0m\u001b[1;33m(\u001b[0m\u001b[1;36m36700\u001b[0m\u001b[1;33m,\u001b[0m\u001b[1;36m3\u001b[0m\u001b[1;33m,\u001b[0m\u001b[1;36m3\u001b[0m\u001b[1;33m)\u001b[0m\u001b[1;33m)\u001b[0m\u001b[1;33m\u001b[0m\u001b[1;33m\u001b[0m\u001b[0m\n\u001b[0;32m      3\u001b[0m \u001b[1;33m\u001b[0m\u001b[0m\n\u001b[0;32m      4\u001b[0m \u001b[0mcorrs\u001b[0m\u001b[1;33m=\u001b[0m\u001b[0mnp\u001b[0m\u001b[1;33m.\u001b[0m\u001b[0mzeros\u001b[0m\u001b[1;33m(\u001b[0m\u001b[1;33m(\u001b[0m\u001b[1;36m3\u001b[0m\u001b[1;33m,\u001b[0m\u001b[1;36m3\u001b[0m\u001b[1;33m)\u001b[0m\u001b[1;33m)\u001b[0m\u001b[1;33m\u001b[0m\u001b[1;33m\u001b[0m\u001b[0m\n\u001b[0;32m      5\u001b[0m \u001b[0mp_s\u001b[0m\u001b[1;33m=\u001b[0m\u001b[0mnp\u001b[0m\u001b[1;33m.\u001b[0m\u001b[0mzeros\u001b[0m\u001b[1;33m(\u001b[0m\u001b[1;33m(\u001b[0m\u001b[1;36m3\u001b[0m\u001b[1;33m,\u001b[0m\u001b[1;36m3\u001b[0m\u001b[1;33m)\u001b[0m\u001b[1;33m)\u001b[0m\u001b[1;33m\u001b[0m\u001b[1;33m\u001b[0m\u001b[0m\n",
      "\u001b[1;32m<__array_function__ internals>\u001b[0m in \u001b[0;36mreshape\u001b[1;34m(*args, **kwargs)\u001b[0m\n",
      "\u001b[1;32m~\\Anaconda3\\envs\\deeplearning\\lib\\site-packages\\numpy\\core\\fromnumeric.py\u001b[0m in \u001b[0;36mreshape\u001b[1;34m(a, newshape, order)\u001b[0m\n\u001b[0;32m    299\u001b[0m            [5, 6]])\n\u001b[0;32m    300\u001b[0m     \"\"\"\n\u001b[1;32m--> 301\u001b[1;33m     \u001b[1;32mreturn\u001b[0m \u001b[0m_wrapfunc\u001b[0m\u001b[1;33m(\u001b[0m\u001b[0ma\u001b[0m\u001b[1;33m,\u001b[0m \u001b[1;34m'reshape'\u001b[0m\u001b[1;33m,\u001b[0m \u001b[0mnewshape\u001b[0m\u001b[1;33m,\u001b[0m \u001b[0morder\u001b[0m\u001b[1;33m=\u001b[0m\u001b[0morder\u001b[0m\u001b[1;33m)\u001b[0m\u001b[1;33m\u001b[0m\u001b[1;33m\u001b[0m\u001b[0m\n\u001b[0m\u001b[0;32m    302\u001b[0m \u001b[1;33m\u001b[0m\u001b[0m\n\u001b[0;32m    303\u001b[0m \u001b[1;33m\u001b[0m\u001b[0m\n",
      "\u001b[1;32m~\\Anaconda3\\envs\\deeplearning\\lib\\site-packages\\numpy\\core\\fromnumeric.py\u001b[0m in \u001b[0;36m_wrapfunc\u001b[1;34m(obj, method, *args, **kwds)\u001b[0m\n\u001b[0;32m     59\u001b[0m \u001b[1;33m\u001b[0m\u001b[0m\n\u001b[0;32m     60\u001b[0m     \u001b[1;32mtry\u001b[0m\u001b[1;33m:\u001b[0m\u001b[1;33m\u001b[0m\u001b[1;33m\u001b[0m\u001b[0m\n\u001b[1;32m---> 61\u001b[1;33m         \u001b[1;32mreturn\u001b[0m \u001b[0mbound\u001b[0m\u001b[1;33m(\u001b[0m\u001b[1;33m*\u001b[0m\u001b[0margs\u001b[0m\u001b[1;33m,\u001b[0m \u001b[1;33m**\u001b[0m\u001b[0mkwds\u001b[0m\u001b[1;33m)\u001b[0m\u001b[1;33m\u001b[0m\u001b[1;33m\u001b[0m\u001b[0m\n\u001b[0m\u001b[0;32m     62\u001b[0m     \u001b[1;32mexcept\u001b[0m \u001b[0mTypeError\u001b[0m\u001b[1;33m:\u001b[0m\u001b[1;33m\u001b[0m\u001b[1;33m\u001b[0m\u001b[0m\n\u001b[0;32m     63\u001b[0m         \u001b[1;31m# A TypeError occurs if the object does have such a method in its\u001b[0m\u001b[1;33m\u001b[0m\u001b[1;33m\u001b[0m\u001b[1;33m\u001b[0m\u001b[0m\n",
      "\u001b[1;31mValueError\u001b[0m: cannot reshape array of size 36700 into shape (36700,3,3)"
     ]
    }
   ],
   "source": [
    "predict_n=np.reshape(predict_n,(36700,3,3))\n",
    "val_d=np.reshape(val_d,(36700,3,3))\n",
    "\n",
    "corrs=np.zeros((3,3))\n",
    "p_s=np.zeros((3,3))\n",
    "\n",
    "for i in range(3):\n",
    "    for j in range(3):\n",
    "        corr_value, p_value = pearsonr(predict_n[:,i,j], val_d[:,i,j])   \n",
    "        print(corr_value,round(p_value,4))\n",
    "        corrs[i,j]=corr_value\n",
    "        p_s[i,j]=p_value\n",
    "        \n",
    "        ax = fig.add_subplot(33+(i+j+1))\n",
    "        plot_corr(val_d[:,i,j], predict_n[:,i,j],corrs[i,j])"
   ]
  },
  {
   "cell_type": "markdown",
   "metadata": {},
   "source": [
    "## plot corr"
   ]
  },
  {
   "cell_type": "code",
   "execution_count": 14,
   "metadata": {},
   "outputs": [],
   "source": [
    "def plot_corr(a,b,c):\n",
    "    m, cept =np.polyfit(a,b,1)\n",
    "    x = np.arange(0,1,0.02)\n",
    "    plt.scatter(a, b, marker='o',s=1, c='blue' )\n",
    "    plt.scatter(x, m*x + cept, c='red')\n",
    "    plt.xlabel('actual values')\n",
    "    plt.ylabel('predicted values')\n",
    "    c=round(c,4)\n",
    "    plt.title('Pearson correlation ='+str(c))  \n",
    "    plt.legend(loc='lower right')"
   ]
  },
  {
   "cell_type": "code",
   "execution_count": 15,
   "metadata": {},
   "outputs": [
    {
     "data": {
      "text/plain": [
       "'3.7.6 (default, Jan  8 2020, 20:23:39) [MSC v.1916 64 bit (AMD64)]'"
      ]
     },
     "execution_count": 15,
     "metadata": {},
     "output_type": "execute_result"
    }
   ],
   "source": [
    "sys.version"
   ]
  },
  {
   "cell_type": "markdown",
   "metadata": {},
   "source": [
    "## Hyperparameter tuning"
   ]
  },
  {
   "cell_type": "code",
   "execution_count": 33,
   "metadata": {},
   "outputs": [
    {
     "name": "stdout",
     "output_type": "stream",
     "text": [
      "INFO:tensorflow:Reloading Oracle from existing project my_dir\\helloworld\\oracle.json\n",
      "WARNING:tensorflow:Unresolved object in checkpoint: (root).optimizer.iter\n",
      "WARNING:tensorflow:Unresolved object in checkpoint: (root).optimizer.beta_1\n",
      "WARNING:tensorflow:Unresolved object in checkpoint: (root).optimizer.beta_2\n",
      "WARNING:tensorflow:Unresolved object in checkpoint: (root).optimizer.decay\n",
      "WARNING:tensorflow:Unresolved object in checkpoint: (root).optimizer.learning_rate\n",
      "WARNING:tensorflow:A checkpoint was restored (e.g. tf.train.Checkpoint.restore or tf.keras.Model.load_weights) but not all checkpointed values were used. See above for specific issues. Use expect_partial() on the load status object, e.g. tf.train.Checkpoint.restore(...).expect_partial(), to silence these warnings, or use assert_consumed() to make the check explicit. See https://www.tensorflow.org/guide/checkpoint#loading_mechanics for details.\n",
      "INFO:tensorflow:Reloading Tuner from my_dir\\helloworld\\tuner0.json\n",
      "INFO:tensorflow:Oracle triggered exit\n"
     ]
    },
    {
     "data": {
      "text/html": [
       "<span style=\"color:#4527A0\"><h1 style=\"font-size:18px\">Results summary</h1></span>"
      ],
      "text/plain": [
       "<IPython.core.display.HTML object>"
      ]
     },
     "metadata": {},
     "output_type": "display_data"
    },
    {
     "data": {
      "text/html": [
       "<span style=\"color:cyan\"> |-Results in my_dir\\helloworld</span>"
      ],
      "text/plain": [
       "<IPython.core.display.HTML object>"
      ]
     },
     "metadata": {},
     "output_type": "display_data"
    },
    {
     "data": {
      "text/html": [
       "<span style=\"color:cyan\"> |-Showing 10 best trials</span>"
      ],
      "text/plain": [
       "<IPython.core.display.HTML object>"
      ]
     },
     "metadata": {},
     "output_type": "display_data"
    },
    {
     "data": {
      "text/html": [
       "<span style=\"color:cyan\"> |-Objective(name='val_root_mean_squared_error', direction='min')</span>"
      ],
      "text/plain": [
       "<IPython.core.display.HTML object>"
      ]
     },
     "metadata": {},
     "output_type": "display_data"
    },
    {
     "data": {
      "text/html": [
       "<span style=\"color:#4527A0\"><h1 style=\"font-size:18px\">Trial summary</h1></span>"
      ],
      "text/plain": [
       "<IPython.core.display.HTML object>"
      ]
     },
     "metadata": {},
     "output_type": "display_data"
    },
    {
     "data": {
      "text/html": [
       "<span style=\"color:cyan\"> |-Trial ID: f22a133057fac9ec4c5fee5902171b20</span>"
      ],
      "text/plain": [
       "<IPython.core.display.HTML object>"
      ]
     },
     "metadata": {},
     "output_type": "display_data"
    },
    {
     "data": {
      "text/html": [
       "<span style=\"color:cyan\"> |-Score: 0.23271127045154572</span>"
      ],
      "text/plain": [
       "<IPython.core.display.HTML object>"
      ]
     },
     "metadata": {},
     "output_type": "display_data"
    },
    {
     "data": {
      "text/html": [
       "<span style=\"color:cyan\"> |-Best step: 0</span>"
      ],
      "text/plain": [
       "<IPython.core.display.HTML object>"
      ]
     },
     "metadata": {},
     "output_type": "display_data"
    },
    {
     "data": {
      "text/html": [
       "<span style=\"color:#7E57C2\"><h2 style=\"font-size:16px\">Hyperparameters:</h2></span>"
      ],
      "text/plain": [
       "<IPython.core.display.HTML object>"
      ]
     },
     "metadata": {},
     "output_type": "display_data"
    },
    {
     "data": {
      "text/html": [
       "<span style=\"color:cyan\"> |-dropout: 0.1</span>"
      ],
      "text/plain": [
       "<IPython.core.display.HTML object>"
      ]
     },
     "metadata": {},
     "output_type": "display_data"
    },
    {
     "data": {
      "text/html": [
       "<span style=\"color:blue\"> |-num_filters: 64</span>"
      ],
      "text/plain": [
       "<IPython.core.display.HTML object>"
      ]
     },
     "metadata": {},
     "output_type": "display_data"
    },
    {
     "data": {
      "text/html": [
       "<span style=\"color:cyan\"> |-units: 208</span>"
      ],
      "text/plain": [
       "<IPython.core.display.HTML object>"
      ]
     },
     "metadata": {},
     "output_type": "display_data"
    },
    {
     "data": {
      "text/html": [
       "<span style=\"color:#4527A0\"><h1 style=\"font-size:18px\">Trial summary</h1></span>"
      ],
      "text/plain": [
       "<IPython.core.display.HTML object>"
      ]
     },
     "metadata": {},
     "output_type": "display_data"
    },
    {
     "data": {
      "text/html": [
       "<span style=\"color:cyan\"> |-Trial ID: d225f66d37d0aafd67677655321befeb</span>"
      ],
      "text/plain": [
       "<IPython.core.display.HTML object>"
      ]
     },
     "metadata": {},
     "output_type": "display_data"
    },
    {
     "data": {
      "text/html": [
       "<span style=\"color:cyan\"> |-Score: 0.23312480747699738</span>"
      ],
      "text/plain": [
       "<IPython.core.display.HTML object>"
      ]
     },
     "metadata": {},
     "output_type": "display_data"
    },
    {
     "data": {
      "text/html": [
       "<span style=\"color:cyan\"> |-Best step: 0</span>"
      ],
      "text/plain": [
       "<IPython.core.display.HTML object>"
      ]
     },
     "metadata": {},
     "output_type": "display_data"
    },
    {
     "data": {
      "text/html": [
       "<span style=\"color:#7E57C2\"><h2 style=\"font-size:16px\">Hyperparameters:</h2></span>"
      ],
      "text/plain": [
       "<IPython.core.display.HTML object>"
      ]
     },
     "metadata": {},
     "output_type": "display_data"
    },
    {
     "data": {
      "text/html": [
       "<span style=\"color:cyan\"> |-dropout: 0.1</span>"
      ],
      "text/plain": [
       "<IPython.core.display.HTML object>"
      ]
     },
     "metadata": {},
     "output_type": "display_data"
    },
    {
     "data": {
      "text/html": [
       "<span style=\"color:blue\"> |-num_filters: 48</span>"
      ],
      "text/plain": [
       "<IPython.core.display.HTML object>"
      ]
     },
     "metadata": {},
     "output_type": "display_data"
    },
    {
     "data": {
      "text/html": [
       "<span style=\"color:cyan\"> |-units: 112</span>"
      ],
      "text/plain": [
       "<IPython.core.display.HTML object>"
      ]
     },
     "metadata": {},
     "output_type": "display_data"
    },
    {
     "data": {
      "text/html": [
       "<span style=\"color:#4527A0\"><h1 style=\"font-size:18px\">Trial summary</h1></span>"
      ],
      "text/plain": [
       "<IPython.core.display.HTML object>"
      ]
     },
     "metadata": {},
     "output_type": "display_data"
    },
    {
     "data": {
      "text/html": [
       "<span style=\"color:cyan\"> |-Trial ID: 38ea3bd9e7a93ee41884cd44756e8913</span>"
      ],
      "text/plain": [
       "<IPython.core.display.HTML object>"
      ]
     },
     "metadata": {},
     "output_type": "display_data"
    },
    {
     "data": {
      "text/html": [
       "<span style=\"color:cyan\"> |-Score: 0.23333977162837982</span>"
      ],
      "text/plain": [
       "<IPython.core.display.HTML object>"
      ]
     },
     "metadata": {},
     "output_type": "display_data"
    },
    {
     "data": {
      "text/html": [
       "<span style=\"color:cyan\"> |-Best step: 0</span>"
      ],
      "text/plain": [
       "<IPython.core.display.HTML object>"
      ]
     },
     "metadata": {},
     "output_type": "display_data"
    },
    {
     "data": {
      "text/html": [
       "<span style=\"color:#7E57C2\"><h2 style=\"font-size:16px\">Hyperparameters:</h2></span>"
      ],
      "text/plain": [
       "<IPython.core.display.HTML object>"
      ]
     },
     "metadata": {},
     "output_type": "display_data"
    },
    {
     "data": {
      "text/html": [
       "<span style=\"color:cyan\"> |-dropout: 0.1</span>"
      ],
      "text/plain": [
       "<IPython.core.display.HTML object>"
      ]
     },
     "metadata": {},
     "output_type": "display_data"
    },
    {
     "data": {
      "text/html": [
       "<span style=\"color:blue\"> |-num_filters: 80</span>"
      ],
      "text/plain": [
       "<IPython.core.display.HTML object>"
      ]
     },
     "metadata": {},
     "output_type": "display_data"
    },
    {
     "data": {
      "text/html": [
       "<span style=\"color:cyan\"> |-units: 272</span>"
      ],
      "text/plain": [
       "<IPython.core.display.HTML object>"
      ]
     },
     "metadata": {},
     "output_type": "display_data"
    },
    {
     "data": {
      "text/html": [
       "<span style=\"color:#4527A0\"><h1 style=\"font-size:18px\">Trial summary</h1></span>"
      ],
      "text/plain": [
       "<IPython.core.display.HTML object>"
      ]
     },
     "metadata": {},
     "output_type": "display_data"
    },
    {
     "data": {
      "text/html": [
       "<span style=\"color:cyan\"> |-Trial ID: ea14a8e0655360395e9e16cf59cb85f4</span>"
      ],
      "text/plain": [
       "<IPython.core.display.HTML object>"
      ]
     },
     "metadata": {},
     "output_type": "display_data"
    },
    {
     "data": {
      "text/html": [
       "<span style=\"color:cyan\"> |-Score: 0.23414690792560577</span>"
      ],
      "text/plain": [
       "<IPython.core.display.HTML object>"
      ]
     },
     "metadata": {},
     "output_type": "display_data"
    },
    {
     "data": {
      "text/html": [
       "<span style=\"color:cyan\"> |-Best step: 0</span>"
      ],
      "text/plain": [
       "<IPython.core.display.HTML object>"
      ]
     },
     "metadata": {},
     "output_type": "display_data"
    },
    {
     "data": {
      "text/html": [
       "<span style=\"color:#7E57C2\"><h2 style=\"font-size:16px\">Hyperparameters:</h2></span>"
      ],
      "text/plain": [
       "<IPython.core.display.HTML object>"
      ]
     },
     "metadata": {},
     "output_type": "display_data"
    },
    {
     "data": {
      "text/html": [
       "<span style=\"color:cyan\"> |-dropout: 0.2</span>"
      ],
      "text/plain": [
       "<IPython.core.display.HTML object>"
      ]
     },
     "metadata": {},
     "output_type": "display_data"
    },
    {
     "data": {
      "text/html": [
       "<span style=\"color:blue\"> |-num_filters: 64</span>"
      ],
      "text/plain": [
       "<IPython.core.display.HTML object>"
      ]
     },
     "metadata": {},
     "output_type": "display_data"
    },
    {
     "data": {
      "text/html": [
       "<span style=\"color:cyan\"> |-units: 400</span>"
      ],
      "text/plain": [
       "<IPython.core.display.HTML object>"
      ]
     },
     "metadata": {},
     "output_type": "display_data"
    },
    {
     "data": {
      "text/html": [
       "<span style=\"color:#4527A0\"><h1 style=\"font-size:18px\">Trial summary</h1></span>"
      ],
      "text/plain": [
       "<IPython.core.display.HTML object>"
      ]
     },
     "metadata": {},
     "output_type": "display_data"
    },
    {
     "data": {
      "text/html": [
       "<span style=\"color:cyan\"> |-Trial ID: 36e0b40cc622b5473978afa283da05da</span>"
      ],
      "text/plain": [
       "<IPython.core.display.HTML object>"
      ]
     },
     "metadata": {},
     "output_type": "display_data"
    },
    {
     "data": {
      "text/html": [
       "<span style=\"color:cyan\"> |-Score: 0.23452253639698029</span>"
      ],
      "text/plain": [
       "<IPython.core.display.HTML object>"
      ]
     },
     "metadata": {},
     "output_type": "display_data"
    },
    {
     "data": {
      "text/html": [
       "<span style=\"color:cyan\"> |-Best step: 0</span>"
      ],
      "text/plain": [
       "<IPython.core.display.HTML object>"
      ]
     },
     "metadata": {},
     "output_type": "display_data"
    },
    {
     "data": {
      "text/html": [
       "<span style=\"color:#7E57C2\"><h2 style=\"font-size:16px\">Hyperparameters:</h2></span>"
      ],
      "text/plain": [
       "<IPython.core.display.HTML object>"
      ]
     },
     "metadata": {},
     "output_type": "display_data"
    },
    {
     "data": {
      "text/html": [
       "<span style=\"color:cyan\"> |-dropout: 0.1</span>"
      ],
      "text/plain": [
       "<IPython.core.display.HTML object>"
      ]
     },
     "metadata": {},
     "output_type": "display_data"
    },
    {
     "data": {
      "text/html": [
       "<span style=\"color:blue\"> |-num_filters: 112</span>"
      ],
      "text/plain": [
       "<IPython.core.display.HTML object>"
      ]
     },
     "metadata": {},
     "output_type": "display_data"
    },
    {
     "data": {
      "text/html": [
       "<span style=\"color:cyan\"> |-units: 400</span>"
      ],
      "text/plain": [
       "<IPython.core.display.HTML object>"
      ]
     },
     "metadata": {},
     "output_type": "display_data"
    },
    {
     "data": {
      "text/html": [
       "<span style=\"color:#4527A0\"><h1 style=\"font-size:18px\">Trial summary</h1></span>"
      ],
      "text/plain": [
       "<IPython.core.display.HTML object>"
      ]
     },
     "metadata": {},
     "output_type": "display_data"
    },
    {
     "data": {
      "text/html": [
       "<span style=\"color:cyan\"> |-Trial ID: 731684fc4a6f49d458a8eef2b21de0bc</span>"
      ],
      "text/plain": [
       "<IPython.core.display.HTML object>"
      ]
     },
     "metadata": {},
     "output_type": "display_data"
    },
    {
     "data": {
      "text/html": [
       "<span style=\"color:cyan\"> |-Score: 0.23498046398162842</span>"
      ],
      "text/plain": [
       "<IPython.core.display.HTML object>"
      ]
     },
     "metadata": {},
     "output_type": "display_data"
    },
    {
     "data": {
      "text/html": [
       "<span style=\"color:cyan\"> |-Best step: 0</span>"
      ],
      "text/plain": [
       "<IPython.core.display.HTML object>"
      ]
     },
     "metadata": {},
     "output_type": "display_data"
    },
    {
     "data": {
      "text/html": [
       "<span style=\"color:#7E57C2\"><h2 style=\"font-size:16px\">Hyperparameters:</h2></span>"
      ],
      "text/plain": [
       "<IPython.core.display.HTML object>"
      ]
     },
     "metadata": {},
     "output_type": "display_data"
    },
    {
     "data": {
      "text/html": [
       "<span style=\"color:cyan\"> |-dropout: 0.1</span>"
      ],
      "text/plain": [
       "<IPython.core.display.HTML object>"
      ]
     },
     "metadata": {},
     "output_type": "display_data"
    },
    {
     "data": {
      "text/html": [
       "<span style=\"color:blue\"> |-num_filters: 112</span>"
      ],
      "text/plain": [
       "<IPython.core.display.HTML object>"
      ]
     },
     "metadata": {},
     "output_type": "display_data"
    },
    {
     "data": {
      "text/html": [
       "<span style=\"color:cyan\"> |-units: 16</span>"
      ],
      "text/plain": [
       "<IPython.core.display.HTML object>"
      ]
     },
     "metadata": {},
     "output_type": "display_data"
    },
    {
     "data": {
      "text/html": [
       "<span style=\"color:#4527A0\"><h1 style=\"font-size:18px\">Trial summary</h1></span>"
      ],
      "text/plain": [
       "<IPython.core.display.HTML object>"
      ]
     },
     "metadata": {},
     "output_type": "display_data"
    },
    {
     "data": {
      "text/html": [
       "<span style=\"color:cyan\"> |-Trial ID: c6a39032eae13a00ea620db4318e5f38</span>"
      ],
      "text/plain": [
       "<IPython.core.display.HTML object>"
      ]
     },
     "metadata": {},
     "output_type": "display_data"
    },
    {
     "data": {
      "text/html": [
       "<span style=\"color:cyan\"> |-Score: 0.23560704290866852</span>"
      ],
      "text/plain": [
       "<IPython.core.display.HTML object>"
      ]
     },
     "metadata": {},
     "output_type": "display_data"
    },
    {
     "data": {
      "text/html": [
       "<span style=\"color:cyan\"> |-Best step: 0</span>"
      ],
      "text/plain": [
       "<IPython.core.display.HTML object>"
      ]
     },
     "metadata": {},
     "output_type": "display_data"
    },
    {
     "data": {
      "text/html": [
       "<span style=\"color:#7E57C2\"><h2 style=\"font-size:16px\">Hyperparameters:</h2></span>"
      ],
      "text/plain": [
       "<IPython.core.display.HTML object>"
      ]
     },
     "metadata": {},
     "output_type": "display_data"
    },
    {
     "data": {
      "text/html": [
       "<span style=\"color:cyan\"> |-dropout: 0.2</span>"
      ],
      "text/plain": [
       "<IPython.core.display.HTML object>"
      ]
     },
     "metadata": {},
     "output_type": "display_data"
    },
    {
     "data": {
      "text/html": [
       "<span style=\"color:blue\"> |-num_filters: 64</span>"
      ],
      "text/plain": [
       "<IPython.core.display.HTML object>"
      ]
     },
     "metadata": {},
     "output_type": "display_data"
    },
    {
     "data": {
      "text/html": [
       "<span style=\"color:cyan\"> |-units: 496</span>"
      ],
      "text/plain": [
       "<IPython.core.display.HTML object>"
      ]
     },
     "metadata": {},
     "output_type": "display_data"
    },
    {
     "data": {
      "text/html": [
       "<span style=\"color:#4527A0\"><h1 style=\"font-size:18px\">Trial summary</h1></span>"
      ],
      "text/plain": [
       "<IPython.core.display.HTML object>"
      ]
     },
     "metadata": {},
     "output_type": "display_data"
    },
    {
     "data": {
      "text/html": [
       "<span style=\"color:cyan\"> |-Trial ID: a2ef08c39ef8568f9f5889fbcf12bf6a</span>"
      ],
      "text/plain": [
       "<IPython.core.display.HTML object>"
      ]
     },
     "metadata": {},
     "output_type": "display_data"
    },
    {
     "data": {
      "text/html": [
       "<span style=\"color:cyan\"> |-Score: 0.23602980375289917</span>"
      ],
      "text/plain": [
       "<IPython.core.display.HTML object>"
      ]
     },
     "metadata": {},
     "output_type": "display_data"
    },
    {
     "data": {
      "text/html": [
       "<span style=\"color:cyan\"> |-Best step: 0</span>"
      ],
      "text/plain": [
       "<IPython.core.display.HTML object>"
      ]
     },
     "metadata": {},
     "output_type": "display_data"
    },
    {
     "data": {
      "text/html": [
       "<span style=\"color:#7E57C2\"><h2 style=\"font-size:16px\">Hyperparameters:</h2></span>"
      ],
      "text/plain": [
       "<IPython.core.display.HTML object>"
      ]
     },
     "metadata": {},
     "output_type": "display_data"
    },
    {
     "data": {
      "text/html": [
       "<span style=\"color:cyan\"> |-dropout: 0.2</span>"
      ],
      "text/plain": [
       "<IPython.core.display.HTML object>"
      ]
     },
     "metadata": {},
     "output_type": "display_data"
    },
    {
     "data": {
      "text/html": [
       "<span style=\"color:blue\"> |-num_filters: 112</span>"
      ],
      "text/plain": [
       "<IPython.core.display.HTML object>"
      ]
     },
     "metadata": {},
     "output_type": "display_data"
    },
    {
     "data": {
      "text/html": [
       "<span style=\"color:cyan\"> |-units: 208</span>"
      ],
      "text/plain": [
       "<IPython.core.display.HTML object>"
      ]
     },
     "metadata": {},
     "output_type": "display_data"
    },
    {
     "data": {
      "text/html": [
       "<span style=\"color:#4527A0\"><h1 style=\"font-size:18px\">Trial summary</h1></span>"
      ],
      "text/plain": [
       "<IPython.core.display.HTML object>"
      ]
     },
     "metadata": {},
     "output_type": "display_data"
    },
    {
     "data": {
      "text/html": [
       "<span style=\"color:cyan\"> |-Trial ID: 96cff51d38b0d52402738a04ed95eb59</span>"
      ],
      "text/plain": [
       "<IPython.core.display.HTML object>"
      ]
     },
     "metadata": {},
     "output_type": "display_data"
    },
    {
     "data": {
      "text/html": [
       "<span style=\"color:cyan\"> |-Score: 0.23719239234924316</span>"
      ],
      "text/plain": [
       "<IPython.core.display.HTML object>"
      ]
     },
     "metadata": {},
     "output_type": "display_data"
    },
    {
     "data": {
      "text/html": [
       "<span style=\"color:cyan\"> |-Best step: 0</span>"
      ],
      "text/plain": [
       "<IPython.core.display.HTML object>"
      ]
     },
     "metadata": {},
     "output_type": "display_data"
    },
    {
     "data": {
      "text/html": [
       "<span style=\"color:#7E57C2\"><h2 style=\"font-size:16px\">Hyperparameters:</h2></span>"
      ],
      "text/plain": [
       "<IPython.core.display.HTML object>"
      ]
     },
     "metadata": {},
     "output_type": "display_data"
    },
    {
     "data": {
      "text/html": [
       "<span style=\"color:cyan\"> |-dropout: 0.30000000000000004</span>"
      ],
      "text/plain": [
       "<IPython.core.display.HTML object>"
      ]
     },
     "metadata": {},
     "output_type": "display_data"
    },
    {
     "data": {
      "text/html": [
       "<span style=\"color:blue\"> |-num_filters: 128</span>"
      ],
      "text/plain": [
       "<IPython.core.display.HTML object>"
      ]
     },
     "metadata": {},
     "output_type": "display_data"
    },
    {
     "data": {
      "text/html": [
       "<span style=\"color:cyan\"> |-units: 176</span>"
      ],
      "text/plain": [
       "<IPython.core.display.HTML object>"
      ]
     },
     "metadata": {},
     "output_type": "display_data"
    },
    {
     "data": {
      "text/html": [
       "<span style=\"color:#4527A0\"><h1 style=\"font-size:18px\">Trial summary</h1></span>"
      ],
      "text/plain": [
       "<IPython.core.display.HTML object>"
      ]
     },
     "metadata": {},
     "output_type": "display_data"
    },
    {
     "data": {
      "text/html": [
       "<span style=\"color:cyan\"> |-Trial ID: 2549991f13e7984df1237f265652238a</span>"
      ],
      "text/plain": [
       "<IPython.core.display.HTML object>"
      ]
     },
     "metadata": {},
     "output_type": "display_data"
    },
    {
     "data": {
      "text/html": [
       "<span style=\"color:cyan\"> |-Score: 0.23796446621418</span>"
      ],
      "text/plain": [
       "<IPython.core.display.HTML object>"
      ]
     },
     "metadata": {},
     "output_type": "display_data"
    },
    {
     "data": {
      "text/html": [
       "<span style=\"color:cyan\"> |-Best step: 0</span>"
      ],
      "text/plain": [
       "<IPython.core.display.HTML object>"
      ]
     },
     "metadata": {},
     "output_type": "display_data"
    },
    {
     "data": {
      "text/html": [
       "<span style=\"color:#7E57C2\"><h2 style=\"font-size:16px\">Hyperparameters:</h2></span>"
      ],
      "text/plain": [
       "<IPython.core.display.HTML object>"
      ]
     },
     "metadata": {},
     "output_type": "display_data"
    },
    {
     "data": {
      "text/html": [
       "<span style=\"color:cyan\"> |-dropout: 0.30000000000000004</span>"
      ],
      "text/plain": [
       "<IPython.core.display.HTML object>"
      ]
     },
     "metadata": {},
     "output_type": "display_data"
    },
    {
     "data": {
      "text/html": [
       "<span style=\"color:blue\"> |-num_filters: 80</span>"
      ],
      "text/plain": [
       "<IPython.core.display.HTML object>"
      ]
     },
     "metadata": {},
     "output_type": "display_data"
    },
    {
     "data": {
      "text/html": [
       "<span style=\"color:cyan\"> |-units: 176</span>"
      ],
      "text/plain": [
       "<IPython.core.display.HTML object>"
      ]
     },
     "metadata": {},
     "output_type": "display_data"
    },
    {
     "name": "stdout",
     "output_type": "stream",
     "text": [
      "366/366 [==============================] - ETA: 2s - loss: 0.0606 - root_mean_squared_error: 0.246 - ETA: 0s - loss: 0.0548 - root_mean_squared_error: 0.234 - 0s 1ms/sample - loss: 0.0554 - root_mean_squared_error: 0.2353\n",
      "Train on 734 samples, validate on 366 samples\n",
      "Epoch 1/200\n",
      "Epoch 1/200\n",
      "734/734 [==============================] - ETA: 37s - loss: 0.0538 - root_mean_squared_error: 0.2319 - ETA: 37s - loss: 0.0538 - root_mean_squared_error: 0.23 - ETA: 18s - loss: 0.0534 - root_mean_squared_error: 0.23 - ETA: 18s - loss: 0.0534 - root_mean_squared_error: 0.23 - ETA: 12s - loss: 0.0561 - root_mean_squared_error: 0.23 - ETA: 12s - loss: 0.0561 - root_mean_squared_error: 0.23 - ETA: 9s - loss: 0.0566 - root_mean_squared_error: 0.237 - ETA: 9s - loss: 0.0566 - root_mean_squared_error: 0.2379 - ETA: 7s - loss: 0.0587 - root_mean_squared_error: 0.242 - ETA: 7s - loss: 0.0587 - root_mean_squared_error: 0.242 - ETA: 6s - loss: 0.0593 - root_mean_squared_error: 0.243 - ETA: 6s - loss: 0.0593 - root_mean_squared_error: 0.243 - ETA: 5s - loss: 0.0591 - root_mean_squared_error: 0.243 - ETA: 5s - loss: 0.0591 - root_mean_squared_error: 0.243 - ETA: 4s - loss: 0.0585 - root_mean_squared_error: 0.241 - ETA: 4s - loss: 0.0585 - root_mean_squared_error: 0.241 - ETA: 3s - loss: 0.0591 - root_mean_squared_error: 0.243 - ETA: 3s - loss: 0.0591 - root_mean_squared_error: 0.243 - ETA: 3s - loss: 0.0589 - root_mean_squared_error: 0.242 - ETA: 3s - loss: 0.0589 - root_mean_squared_error: 0.242 - ETA: 2s - loss: 0.0588 - root_mean_squared_error: 0.242 - ETA: 2s - loss: 0.0588 - root_mean_squared_error: 0.242 - ETA: 2s - loss: 0.0595 - root_mean_squared_error: 0.243 - ETA: 2s - loss: 0.0595 - root_mean_squared_error: 0.243 - ETA: 2s - loss: 0.0588 - root_mean_squared_error: 0.242 - ETA: 2s - loss: 0.0588 - root_mean_squared_error: 0.242 - ETA: 1s - loss: 0.0587 - root_mean_squared_error: 0.242 - ETA: 1s - loss: 0.0587 - root_mean_squared_error: 0.242 - ETA: 1s - loss: 0.0582 - root_mean_squared_error: 0.241 - ETA: 1s - loss: 0.0582 - root_mean_squared_error: 0.241 - ETA: 1s - loss: 0.0589 - root_mean_squared_error: 0.242 - ETA: 1s - loss: 0.0589 - root_mean_squared_error: 0.242 - ETA: 1s - loss: 0.0594 - root_mean_squared_error: 0.243 - ETA: 1s - loss: 0.0594 - root_mean_squared_error: 0.243 - ETA: 0s - loss: 0.0591 - root_mean_squared_error: 0.243 - ETA: 0s - loss: 0.0591 - root_mean_squared_error: 0.243 - ETA: 0s - loss: 0.0598 - root_mean_squared_error: 0.244 - ETA: 0s - loss: 0.0598 - root_mean_squared_error: 0.244 - ETA: 0s - loss: 0.0598 - root_mean_squared_error: 0.244 - ETA: 0s - loss: 0.0598 - root_mean_squared_error: 0.244 - ETA: 0s - loss: 0.0598 - root_mean_squared_error: 0.244 - ETA: 0s - loss: 0.0598 - root_mean_squared_error: 0.244 - ETA: 0s - loss: 0.0597 - root_mean_squared_error: 0.244 - ETA: 0s - loss: 0.0597 - root_mean_squared_error: 0.244 - 4s 5ms/sample - loss: 0.0598 - root_mean_squared_error: 0.2446 - val_loss: 0.0557 - val_root_mean_squared_error: 0.2359\n",
      "\n",
      "Epoch 00001: saving model to C:/Users/xatzo/Desktop/StoreWeight/cv1.ckpt\n",
      "734/734 [==============================] - 4s 5ms/sample - loss: 0.0598 - root_mean_squared_error: 0.2446 - val_loss: 0.0557 - val_root_mean_squared_error: 0.2359\n",
      "Epoch 2/200\n",
      "Epoch 2/200\n",
      "734/734 [==============================] - ETA: 1s - loss: 0.0570 - root_mean_squared_error: 0.2387 - ETA: 1s - loss: 0.0570 - root_mean_squared_error: 0.238 - ETA: 1s - loss: 0.0556 - root_mean_squared_error: 0.235 - ETA: 1s - loss: 0.0556 - root_mean_squared_error: 0.235 - ETA: 1s - loss: 0.0565 - root_mean_squared_error: 0.237 - ETA: 1s - loss: 0.0565 - root_mean_squared_error: 0.237 - ETA: 1s - loss: 0.0585 - root_mean_squared_error: 0.241 - ETA: 1s - loss: 0.0585 - root_mean_squared_error: 0.241 - ETA: 1s - loss: 0.0571 - root_mean_squared_error: 0.239 - ETA: 1s - loss: 0.0571 - root_mean_squared_error: 0.239 - ETA: 1s - loss: 0.0593 - root_mean_squared_error: 0.243 - ETA: 1s - loss: 0.0593 - root_mean_squared_error: 0.243 - ETA: 1s - loss: 0.0588 - root_mean_squared_error: 0.242 - ETA: 1s - loss: 0.0588 - root_mean_squared_error: 0.242 - ETA: 1s - loss: 0.0588 - root_mean_squared_error: 0.242 - ETA: 1s - loss: 0.0588 - root_mean_squared_error: 0.242 - ETA: 1s - loss: 0.0596 - root_mean_squared_error: 0.244 - ETA: 1s - loss: 0.0596 - root_mean_squared_error: 0.244 - ETA: 1s - loss: 0.0600 - root_mean_squared_error: 0.244 - ETA: 1s - loss: 0.0600 - root_mean_squared_error: 0.244 - ETA: 0s - loss: 0.0599 - root_mean_squared_error: 0.244 - ETA: 0s - loss: 0.0599 - root_mean_squared_error: 0.244 - ETA: 0s - loss: 0.0591 - root_mean_squared_error: 0.243 - ETA: 0s - loss: 0.0591 - root_mean_squared_error: 0.243 - ETA: 0s - loss: 0.0596 - root_mean_squared_error: 0.244 - ETA: 0s - loss: 0.0596 - root_mean_squared_error: 0.244 - ETA: 0s - loss: 0.0596 - root_mean_squared_error: 0.244 - ETA: 0s - loss: 0.0596 - root_mean_squared_error: 0.244 - ETA: 0s - loss: 0.0596 - root_mean_squared_error: 0.244 - ETA: 0s - loss: 0.0596 - root_mean_squared_error: 0.244 - ETA: 0s - loss: 0.0592 - root_mean_squared_error: 0.243 - ETA: 0s - loss: 0.0592 - root_mean_squared_error: 0.243 - ETA: 0s - loss: 0.0595 - root_mean_squared_error: 0.243 - ETA: 0s - loss: 0.0595 - root_mean_squared_error: 0.243 - ETA: 0s - loss: 0.0591 - root_mean_squared_error: 0.243 - ETA: 0s - loss: 0.0591 - root_mean_squared_error: 0.243 - ETA: 0s - loss: 0.0591 - root_mean_squared_error: 0.243 - ETA: 0s - loss: 0.0591 - root_mean_squared_error: 0.243 - ETA: 0s - loss: 0.0593 - root_mean_squared_error: 0.243 - ETA: 0s - loss: 0.0593 - root_mean_squared_error: 0.243 - ETA: 0s - loss: 0.0590 - root_mean_squared_error: 0.242 - ETA: 0s - loss: 0.0590 - root_mean_squared_error: 0.242 - ETA: 0s - loss: 0.0594 - root_mean_squared_error: 0.243 - ETA: 0s - loss: 0.0594 - root_mean_squared_error: 0.243 - 2s 3ms/sample - loss: 0.0592 - root_mean_squared_error: 0.2434 - val_loss: 0.0556 - val_root_mean_squared_error: 0.2359\n",
      "\n",
      "Epoch 00002: saving model to C:/Users/xatzo/Desktop/StoreWeight/cv1.ckpt\n",
      "734/734 [==============================] - 2s 3ms/sample - loss: 0.0592 - root_mean_squared_error: 0.2434 - val_loss: 0.0556 - val_root_mean_squared_error: 0.2359\n",
      "Epoch 3/200\n",
      "Epoch 3/200\n",
      "734/734 [==============================] - ETA: 1s - loss: 0.0547 - root_mean_squared_error: 0.2339 - ETA: 1s - loss: 0.0547 - root_mean_squared_error: 0.233 - ETA: 1s - loss: 0.0557 - root_mean_squared_error: 0.236 - ETA: 1s - loss: 0.0557 - root_mean_squared_error: 0.236 - ETA: 1s - loss: 0.0558 - root_mean_squared_error: 0.236 - ETA: 1s - loss: 0.0558 - root_mean_squared_error: 0.236 - ETA: 1s - loss: 0.0570 - root_mean_squared_error: 0.238 - ETA: 1s - loss: 0.0570 - root_mean_squared_error: 0.238 - ETA: 1s - loss: 0.0555 - root_mean_squared_error: 0.235 - ETA: 1s - loss: 0.0555 - root_mean_squared_error: 0.235 - ETA: 1s - loss: 0.0559 - root_mean_squared_error: 0.236 - ETA: 1s - loss: 0.0559 - root_mean_squared_error: 0.236 - ETA: 1s - loss: 0.0576 - root_mean_squared_error: 0.239 - ETA: 1s - loss: 0.0576 - root_mean_squared_error: 0.239 - ETA: 1s - loss: 0.0568 - root_mean_squared_error: 0.238 - ETA: 1s - loss: 0.0568 - root_mean_squared_error: 0.238 - ETA: 1s - loss: 0.0568 - root_mean_squared_error: 0.238 - ETA: 1s - loss: 0.0568 - root_mean_squared_error: 0.238 - ETA: 0s - loss: 0.0574 - root_mean_squared_error: 0.239 - ETA: 0s - loss: 0.0574 - root_mean_squared_error: 0.239 - ETA: 0s - loss: 0.0585 - root_mean_squared_error: 0.242 - ETA: 0s - loss: 0.0585 - root_mean_squared_error: 0.242 - ETA: 0s - loss: 0.0587 - root_mean_squared_error: 0.242 - ETA: 0s - loss: 0.0587 - root_mean_squared_error: 0.242 - ETA: 0s - loss: 0.0596 - root_mean_squared_error: 0.244 - ETA: 0s - loss: 0.0596 - root_mean_squared_error: 0.244 - ETA: 0s - loss: 0.0597 - root_mean_squared_error: 0.244 - ETA: 0s - loss: 0.0597 - root_mean_squared_error: 0.244 - ETA: 0s - loss: 0.0598 - root_mean_squared_error: 0.244 - ETA: 0s - loss: 0.0598 - root_mean_squared_error: 0.244 - ETA: 0s - loss: 0.0603 - root_mean_squared_error: 0.245 - ETA: 0s - loss: 0.0603 - root_mean_squared_error: 0.245 - ETA: 0s - loss: 0.0601 - root_mean_squared_error: 0.245 - ETA: 0s - loss: 0.0601 - root_mean_squared_error: 0.245 - ETA: 0s - loss: 0.0598 - root_mean_squared_error: 0.244 - ETA: 0s - loss: 0.0598 - root_mean_squared_error: 0.244 - ETA: 0s - loss: 0.0596 - root_mean_squared_error: 0.244 - ETA: 0s - loss: 0.0596 - root_mean_squared_error: 0.244 - ETA: 0s - loss: 0.0591 - root_mean_squared_error: 0.243 - ETA: 0s - loss: 0.0591 - root_mean_squared_error: 0.243 - ETA: 0s - loss: 0.0590 - root_mean_squared_error: 0.243 - ETA: 0s - loss: 0.0590 - root_mean_squared_error: 0.243 - ETA: 0s - loss: 0.0586 - root_mean_squared_error: 0.242 - ETA: 0s - loss: 0.0586 - root_mean_squared_error: 0.242 - 2s 3ms/sample - loss: 0.0590 - root_mean_squared_error: 0.2430 - val_loss: 0.0548 - val_root_mean_squared_error: 0.2342\n",
      "\n",
      "Epoch 00003: saving model to C:/Users/xatzo/Desktop/StoreWeight/cv1.ckpt\n",
      "734/734 [==============================] - 2s 3ms/sample - loss: 0.0590 - root_mean_squared_error: 0.2430 - val_loss: 0.0548 - val_root_mean_squared_error: 0.2342\n",
      "Epoch 4/200\n",
      "Epoch 4/200\n",
      "734/734 [==============================] - ETA: 1s - loss: 0.0541 - root_mean_squared_error: 0.2326 - ETA: 1s - loss: 0.0541 - root_mean_squared_error: 0.232 - ETA: 1s - loss: 0.0564 - root_mean_squared_error: 0.237 - ETA: 1s - loss: 0.0564 - root_mean_squared_error: 0.237 - ETA: 1s - loss: 0.0564 - root_mean_squared_error: 0.237 - ETA: 1s - loss: 0.0564 - root_mean_squared_error: 0.237 - ETA: 1s - loss: 0.0626 - root_mean_squared_error: 0.250 - ETA: 1s - loss: 0.0626 - root_mean_squared_error: 0.250 - ETA: 1s - loss: 0.0620 - root_mean_squared_error: 0.249 - ETA: 1s - loss: 0.0620 - root_mean_squared_error: 0.249 - ETA: 1s - loss: 0.0617 - root_mean_squared_error: 0.248 - ETA: 1s - loss: 0.0617 - root_mean_squared_error: 0.248 - ETA: 1s - loss: 0.0616 - root_mean_squared_error: 0.248 - ETA: 1s - loss: 0.0616 - root_mean_squared_error: 0.248 - ETA: 1s - loss: 0.0612 - root_mean_squared_error: 0.247 - ETA: 1s - loss: 0.0612 - root_mean_squared_error: 0.247 - ETA: 1s - loss: 0.0610 - root_mean_squared_error: 0.247 - ETA: 1s - loss: 0.0610 - root_mean_squared_error: 0.247 - ETA: 1s - loss: 0.0612 - root_mean_squared_error: 0.247 - ETA: 1s - loss: 0.0612 - root_mean_squared_error: 0.247 - ETA: 0s - loss: 0.0615 - root_mean_squared_error: 0.247 - ETA: 0s - loss: 0.0615 - root_mean_squared_error: 0.247 - ETA: 0s - loss: 0.0599 - root_mean_squared_error: 0.244 - ETA: 0s - loss: 0.0599 - root_mean_squared_error: 0.244 - ETA: 0s - loss: 0.0590 - root_mean_squared_error: 0.242 - ETA: 0s - loss: 0.0590 - root_mean_squared_error: 0.242 - ETA: 0s - loss: 0.0591 - root_mean_squared_error: 0.243 - ETA: 0s - loss: 0.0591 - root_mean_squared_error: 0.243 - ETA: 0s - loss: 0.0600 - root_mean_squared_error: 0.244 - ETA: 0s - loss: 0.0600 - root_mean_squared_error: 0.244 - ETA: 0s - loss: 0.0602 - root_mean_squared_error: 0.245 - ETA: 0s - loss: 0.0602 - root_mean_squared_error: 0.245 - ETA: 0s - loss: 0.0597 - root_mean_squared_error: 0.244 - ETA: 0s - loss: 0.0597 - root_mean_squared_error: 0.244 - ETA: 0s - loss: 0.0598 - root_mean_squared_error: 0.244 - ETA: 0s - loss: 0.0598 - root_mean_squared_error: 0.244 - ETA: 0s - loss: 0.0595 - root_mean_squared_error: 0.243 - ETA: 0s - loss: 0.0595 - root_mean_squared_error: 0.243 - ETA: 0s - loss: 0.0595 - root_mean_squared_error: 0.244 - ETA: 0s - loss: 0.0595 - root_mean_squared_error: 0.244 - ETA: 0s - loss: 0.0595 - root_mean_squared_error: 0.243 - ETA: 0s - loss: 0.0595 - root_mean_squared_error: 0.243 - ETA: 0s - loss: 0.0592 - root_mean_squared_error: 0.243 - ETA: 0s - loss: 0.0592 - root_mean_squared_error: 0.243 - 2s 3ms/sample - loss: 0.0589 - root_mean_squared_error: 0.2426 - val_loss: 0.0557 - val_root_mean_squared_error: 0.2361\n",
      "\n",
      "Epoch 00004: saving model to C:/Users/xatzo/Desktop/StoreWeight/cv1.ckpt\n",
      "734/734 [==============================] - 2s 3ms/sample - loss: 0.0589 - root_mean_squared_error: 0.2426 - val_loss: 0.0557 - val_root_mean_squared_error: 0.2361\n",
      "Epoch 5/200\n",
      "Epoch 5/200\n"
     ]
    },
    {
     "name": "stdout",
     "output_type": "stream",
     "text": [
      "734/734 [==============================] - ETA: 2s - loss: 0.0728 - root_mean_squared_error: 0.2699 - ETA: 2s - loss: 0.0728 - root_mean_squared_error: 0.269 - ETA: 2s - loss: 0.0642 - root_mean_squared_error: 0.253 - ETA: 2s - loss: 0.0642 - root_mean_squared_error: 0.253 - ETA: 2s - loss: 0.0635 - root_mean_squared_error: 0.251 - ETA: 2s - loss: 0.0635 - root_mean_squared_error: 0.251 - ETA: 1s - loss: 0.0621 - root_mean_squared_error: 0.249 - ETA: 1s - loss: 0.0621 - root_mean_squared_error: 0.249 - ETA: 1s - loss: 0.0615 - root_mean_squared_error: 0.248 - ETA: 1s - loss: 0.0615 - root_mean_squared_error: 0.248 - ETA: 1s - loss: 0.0612 - root_mean_squared_error: 0.247 - ETA: 1s - loss: 0.0612 - root_mean_squared_error: 0.247 - ETA: 1s - loss: 0.0628 - root_mean_squared_error: 0.250 - ETA: 1s - loss: 0.0628 - root_mean_squared_error: 0.250 - ETA: 1s - loss: 0.0613 - root_mean_squared_error: 0.247 - ETA: 1s - loss: 0.0613 - root_mean_squared_error: 0.247 - ETA: 1s - loss: 0.0605 - root_mean_squared_error: 0.245 - ETA: 1s - loss: 0.0605 - root_mean_squared_error: 0.245 - ETA: 1s - loss: 0.0599 - root_mean_squared_error: 0.244 - ETA: 1s - loss: 0.0599 - root_mean_squared_error: 0.244 - ETA: 1s - loss: 0.0598 - root_mean_squared_error: 0.244 - ETA: 1s - loss: 0.0598 - root_mean_squared_error: 0.244 - ETA: 1s - loss: 0.0590 - root_mean_squared_error: 0.242 - ETA: 1s - loss: 0.0590 - root_mean_squared_error: 0.242 - ETA: 0s - loss: 0.0585 - root_mean_squared_error: 0.241 - ETA: 0s - loss: 0.0585 - root_mean_squared_error: 0.241 - ETA: 0s - loss: 0.0582 - root_mean_squared_error: 0.241 - ETA: 0s - loss: 0.0582 - root_mean_squared_error: 0.241 - ETA: 0s - loss: 0.0576 - root_mean_squared_error: 0.240 - ETA: 0s - loss: 0.0576 - root_mean_squared_error: 0.240 - ETA: 0s - loss: 0.0569 - root_mean_squared_error: 0.238 - ETA: 0s - loss: 0.0569 - root_mean_squared_error: 0.238 - ETA: 0s - loss: 0.0570 - root_mean_squared_error: 0.238 - ETA: 0s - loss: 0.0570 - root_mean_squared_error: 0.238 - ETA: 0s - loss: 0.0575 - root_mean_squared_error: 0.239 - ETA: 0s - loss: 0.0575 - root_mean_squared_error: 0.239 - ETA: 0s - loss: 0.0572 - root_mean_squared_error: 0.239 - ETA: 0s - loss: 0.0572 - root_mean_squared_error: 0.239 - ETA: 0s - loss: 0.0576 - root_mean_squared_error: 0.240 - ETA: 0s - loss: 0.0576 - root_mean_squared_error: 0.240 - ETA: 0s - loss: 0.0583 - root_mean_squared_error: 0.241 - ETA: 0s - loss: 0.0583 - root_mean_squared_error: 0.241 - ETA: 0s - loss: 0.0585 - root_mean_squared_error: 0.241 - ETA: 0s - loss: 0.0585 - root_mean_squared_error: 0.241 - 2s 3ms/sample - loss: 0.0585 - root_mean_squared_error: 0.2418 - val_loss: 0.0564 - val_root_mean_squared_error: 0.2376\n",
      "\n",
      "Epoch 00005: saving model to C:/Users/xatzo/Desktop/StoreWeight/cv1.ckpt\n",
      "734/734 [==============================] - 2s 3ms/sample - loss: 0.0585 - root_mean_squared_error: 0.2418 - val_loss: 0.0564 - val_root_mean_squared_error: 0.2376\n",
      "Epoch 6/200\n",
      "Epoch 6/200\n",
      "734/734 [==============================] - ETA: 1s - loss: 0.0660 - root_mean_squared_error: 0.2570 - ETA: 1s - loss: 0.0660 - root_mean_squared_error: 0.257 - ETA: 1s - loss: 0.0666 - root_mean_squared_error: 0.258 - ETA: 1s - loss: 0.0666 - root_mean_squared_error: 0.258 - ETA: 1s - loss: 0.0658 - root_mean_squared_error: 0.256 - ETA: 1s - loss: 0.0658 - root_mean_squared_error: 0.256 - ETA: 1s - loss: 0.0643 - root_mean_squared_error: 0.253 - ETA: 1s - loss: 0.0643 - root_mean_squared_error: 0.253 - ETA: 1s - loss: 0.0639 - root_mean_squared_error: 0.252 - ETA: 1s - loss: 0.0639 - root_mean_squared_error: 0.252 - ETA: 1s - loss: 0.0640 - root_mean_squared_error: 0.252 - ETA: 1s - loss: 0.0640 - root_mean_squared_error: 0.252 - ETA: 1s - loss: 0.0625 - root_mean_squared_error: 0.250 - ETA: 1s - loss: 0.0625 - root_mean_squared_error: 0.250 - ETA: 1s - loss: 0.0601 - root_mean_squared_error: 0.245 - ETA: 1s - loss: 0.0601 - root_mean_squared_error: 0.245 - ETA: 1s - loss: 0.0586 - root_mean_squared_error: 0.242 - ETA: 1s - loss: 0.0586 - root_mean_squared_error: 0.242 - ETA: 1s - loss: 0.0576 - root_mean_squared_error: 0.240 - ETA: 1s - loss: 0.0576 - root_mean_squared_error: 0.240 - ETA: 0s - loss: 0.0587 - root_mean_squared_error: 0.242 - ETA: 0s - loss: 0.0587 - root_mean_squared_error: 0.242 - ETA: 0s - loss: 0.0583 - root_mean_squared_error: 0.241 - ETA: 0s - loss: 0.0583 - root_mean_squared_error: 0.241 - ETA: 0s - loss: 0.0577 - root_mean_squared_error: 0.240 - ETA: 0s - loss: 0.0577 - root_mean_squared_error: 0.240 - ETA: 0s - loss: 0.0584 - root_mean_squared_error: 0.241 - ETA: 0s - loss: 0.0584 - root_mean_squared_error: 0.241 - ETA: 0s - loss: 0.0583 - root_mean_squared_error: 0.241 - ETA: 0s - loss: 0.0583 - root_mean_squared_error: 0.241 - ETA: 0s - loss: 0.0588 - root_mean_squared_error: 0.242 - ETA: 0s - loss: 0.0588 - root_mean_squared_error: 0.242 - ETA: 0s - loss: 0.0588 - root_mean_squared_error: 0.242 - ETA: 0s - loss: 0.0588 - root_mean_squared_error: 0.242 - ETA: 0s - loss: 0.0591 - root_mean_squared_error: 0.243 - ETA: 0s - loss: 0.0591 - root_mean_squared_error: 0.243 - ETA: 0s - loss: 0.0593 - root_mean_squared_error: 0.243 - ETA: 0s - loss: 0.0593 - root_mean_squared_error: 0.243 - ETA: 0s - loss: 0.0592 - root_mean_squared_error: 0.243 - ETA: 0s - loss: 0.0592 - root_mean_squared_error: 0.243 - ETA: 0s - loss: 0.0594 - root_mean_squared_error: 0.243 - ETA: 0s - loss: 0.0594 - root_mean_squared_error: 0.243 - ETA: 0s - loss: 0.0594 - root_mean_squared_error: 0.243 - ETA: 0s - loss: 0.0594 - root_mean_squared_error: 0.243 - 2s 3ms/sample - loss: 0.0593 - root_mean_squared_error: 0.2436 - val_loss: 0.0554 - val_root_mean_squared_error: 0.2353\n",
      "\n",
      "Epoch 00006: saving model to C:/Users/xatzo/Desktop/StoreWeight/cv1.ckpt\n",
      "734/734 [==============================] - 2s 3ms/sample - loss: 0.0593 - root_mean_squared_error: 0.2436 - val_loss: 0.0554 - val_root_mean_squared_error: 0.2353\n",
      "Epoch 7/200\n",
      "Epoch 7/200\n",
      "734/734 [==============================] - ETA: 2s - loss: 0.0573 - root_mean_squared_error: 0.2393 - ETA: 2s - loss: 0.0573 - root_mean_squared_error: 0.239 - ETA: 2s - loss: 0.0611 - root_mean_squared_error: 0.247 - ETA: 2s - loss: 0.0611 - root_mean_squared_error: 0.247 - ETA: 2s - loss: 0.0608 - root_mean_squared_error: 0.246 - ETA: 2s - loss: 0.0608 - root_mean_squared_error: 0.246 - ETA: 2s - loss: 0.0600 - root_mean_squared_error: 0.244 - ETA: 2s - loss: 0.0600 - root_mean_squared_error: 0.244 - ETA: 1s - loss: 0.0593 - root_mean_squared_error: 0.243 - ETA: 2s - loss: 0.0593 - root_mean_squared_error: 0.243 - ETA: 1s - loss: 0.0607 - root_mean_squared_error: 0.246 - ETA: 1s - loss: 0.0607 - root_mean_squared_error: 0.246 - ETA: 1s - loss: 0.0583 - root_mean_squared_error: 0.241 - ETA: 1s - loss: 0.0583 - root_mean_squared_error: 0.241 - ETA: 1s - loss: 0.0587 - root_mean_squared_error: 0.242 - ETA: 1s - loss: 0.0587 - root_mean_squared_error: 0.242 - ETA: 1s - loss: 0.0592 - root_mean_squared_error: 0.243 - ETA: 1s - loss: 0.0592 - root_mean_squared_error: 0.243 - ETA: 1s - loss: 0.0583 - root_mean_squared_error: 0.241 - ETA: 1s - loss: 0.0583 - root_mean_squared_error: 0.241 - ETA: 1s - loss: 0.0573 - root_mean_squared_error: 0.239 - ETA: 1s - loss: 0.0573 - root_mean_squared_error: 0.239 - ETA: 1s - loss: 0.0580 - root_mean_squared_error: 0.240 - ETA: 1s - loss: 0.0580 - root_mean_squared_error: 0.240 - ETA: 1s - loss: 0.0584 - root_mean_squared_error: 0.241 - ETA: 1s - loss: 0.0584 - root_mean_squared_error: 0.241 - ETA: 0s - loss: 0.0587 - root_mean_squared_error: 0.242 - ETA: 0s - loss: 0.0587 - root_mean_squared_error: 0.242 - ETA: 0s - loss: 0.0592 - root_mean_squared_error: 0.243 - ETA: 0s - loss: 0.0592 - root_mean_squared_error: 0.243 - ETA: 0s - loss: 0.0583 - root_mean_squared_error: 0.241 - ETA: 0s - loss: 0.0583 - root_mean_squared_error: 0.241 - ETA: 0s - loss: 0.0583 - root_mean_squared_error: 0.241 - ETA: 0s - loss: 0.0583 - root_mean_squared_error: 0.241 - ETA: 0s - loss: 0.0585 - root_mean_squared_error: 0.241 - ETA: 0s - loss: 0.0585 - root_mean_squared_error: 0.241 - ETA: 0s - loss: 0.0579 - root_mean_squared_error: 0.240 - ETA: 0s - loss: 0.0579 - root_mean_squared_error: 0.240 - ETA: 0s - loss: 0.0575 - root_mean_squared_error: 0.239 - ETA: 0s - loss: 0.0575 - root_mean_squared_error: 0.239 - ETA: 0s - loss: 0.0579 - root_mean_squared_error: 0.240 - ETA: 0s - loss: 0.0579 - root_mean_squared_error: 0.240 - ETA: 0s - loss: 0.0577 - root_mean_squared_error: 0.240 - ETA: 0s - loss: 0.0577 - root_mean_squared_error: 0.240 - 3s 3ms/sample - loss: 0.0582 - root_mean_squared_error: 0.2413 - val_loss: 0.0551 - val_root_mean_squared_error: 0.2348\n",
      "\n",
      "Epoch 00007: saving model to C:/Users/xatzo/Desktop/StoreWeight/cv1.ckpt\n",
      "734/734 [==============================] - 3s 4ms/sample - loss: 0.0582 - root_mean_squared_error: 0.2413 - val_loss: 0.0551 - val_root_mean_squared_error: 0.2348\n",
      "Epoch 8/200\n",
      "Epoch 8/200\n",
      "734/734 [==============================] - ETA: 1s - loss: 0.0465 - root_mean_squared_error: 0.2157 - ETA: 1s - loss: 0.0465 - root_mean_squared_error: 0.215 - ETA: 1s - loss: 0.0484 - root_mean_squared_error: 0.220 - ETA: 1s - loss: 0.0484 - root_mean_squared_error: 0.220 - ETA: 1s - loss: 0.0584 - root_mean_squared_error: 0.241 - ETA: 1s - loss: 0.0584 - root_mean_squared_error: 0.241 - ETA: 1s - loss: 0.0576 - root_mean_squared_error: 0.239 - ETA: 1s - loss: 0.0576 - root_mean_squared_error: 0.239 - ETA: 1s - loss: 0.0589 - root_mean_squared_error: 0.242 - ETA: 1s - loss: 0.0589 - root_mean_squared_error: 0.242 - ETA: 1s - loss: 0.0572 - root_mean_squared_error: 0.239 - ETA: 1s - loss: 0.0572 - root_mean_squared_error: 0.239 - ETA: 1s - loss: 0.0572 - root_mean_squared_error: 0.239 - ETA: 1s - loss: 0.0572 - root_mean_squared_error: 0.239 - ETA: 1s - loss: 0.0566 - root_mean_squared_error: 0.238 - ETA: 1s - loss: 0.0566 - root_mean_squared_error: 0.238 - ETA: 1s - loss: 0.0568 - root_mean_squared_error: 0.238 - ETA: 1s - loss: 0.0568 - root_mean_squared_error: 0.238 - ETA: 1s - loss: 0.0582 - root_mean_squared_error: 0.241 - ETA: 1s - loss: 0.0582 - root_mean_squared_error: 0.241 - ETA: 1s - loss: 0.0584 - root_mean_squared_error: 0.241 - ETA: 1s - loss: 0.0584 - root_mean_squared_error: 0.241 - ETA: 1s - loss: 0.0591 - root_mean_squared_error: 0.243 - ETA: 1s - loss: 0.0591 - root_mean_squared_error: 0.243 - ETA: 1s - loss: 0.0592 - root_mean_squared_error: 0.243 - ETA: 1s - loss: 0.0592 - root_mean_squared_error: 0.243 - ETA: 1s - loss: 0.0584 - root_mean_squared_error: 0.241 - ETA: 1s - loss: 0.0584 - root_mean_squared_error: 0.241 - ETA: 1s - loss: 0.0588 - root_mean_squared_error: 0.242 - ETA: 1s - loss: 0.0588 - root_mean_squared_error: 0.242 - ETA: 0s - loss: 0.0580 - root_mean_squared_error: 0.240 - ETA: 0s - loss: 0.0580 - root_mean_squared_error: 0.240 - ETA: 0s - loss: 0.0578 - root_mean_squared_error: 0.240 - ETA: 0s - loss: 0.0578 - root_mean_squared_error: 0.240 - ETA: 0s - loss: 0.0577 - root_mean_squared_error: 0.240 - ETA: 0s - loss: 0.0577 - root_mean_squared_error: 0.240 - ETA: 0s - loss: 0.0579 - root_mean_squared_error: 0.240 - ETA: 0s - loss: 0.0579 - root_mean_squared_error: 0.240 - ETA: 0s - loss: 0.0575 - root_mean_squared_error: 0.239 - ETA: 0s - loss: 0.0575 - root_mean_squared_error: 0.239 - ETA: 0s - loss: 0.0574 - root_mean_squared_error: 0.239 - ETA: 0s - loss: 0.0574 - root_mean_squared_error: 0.239 - ETA: 0s - loss: 0.0578 - root_mean_squared_error: 0.240 - ETA: 0s - loss: 0.0578 - root_mean_squared_error: 0.240 - 3s 4ms/sample - loss: 0.0571 - root_mean_squared_error: 0.2390 - val_loss: 0.0550 - val_root_mean_squared_error: 0.2345\n",
      "\n",
      "Epoch 00008: saving model to C:/Users/xatzo/Desktop/StoreWeight/cv1.ckpt\n",
      "734/734 [==============================] - 3s 5ms/sample - loss: 0.0571 - root_mean_squared_error: 0.2390 - val_loss: 0.0550 - val_root_mean_squared_error: 0.2345\n",
      "0.5741432823084771 0.0\n",
      "correlation:0.5741432823084771 p_value:0.0\n"
     ]
    },
    {
     "name": "stderr",
     "output_type": "stream",
     "text": [
      "No handles with labels found to put in legend.\n"
     ]
    },
    {
     "data": {
      "image/png": "[encoded data removed]",
      "text/plain": [
       "<Figure size 1440x1440 with 1 Axes>"
      ]
     },
     "metadata": {
      "needs_background": "light"
     },
     "output_type": "display_data"
    }
   ],
   "source": [
    "def build_model_test(hp):\n",
    "    model = models.Sequential()\n",
    "    model.add(layers.InputLayer(input_shape=(100,28)))\n",
    "    model.add(layers.Dense(28,activation = 'relu'))\n",
    "    model.add(BatchNormalization(momentum = 0.99))\n",
    "    model.add(Dropout(hp.Float('dropout', 0, 0.5, step=0.1, default=0.5)))\n",
    "    model.add(layers.Conv1D(filters=hp.Int(\n",
    "    'num_filters',\n",
    "    16, 128,\n",
    "    step=16\n",
    "),kernel_size=3,strides=1,padding='same',activation='relu'))\n",
    "    model.add(BatchNormalization(momentum = 0.99))\n",
    "    model.add(Dropout(hp.Float('dropout', 0, 0.5, step=0.1, default=0.5)))\n",
    "    model.add(layers.Conv1D(filters=hp.Int(\n",
    "    'num_filters',\n",
    "    16, 128,\n",
    "    step=16\n",
    "),kernel_size=3,strides=1,padding='same',activation='relu'))\n",
    "    model.add(BatchNormalization(momentum = 0.99))\n",
    "    model.add(Dropout(hp.Float('dropout', 0, 0.5, step=0.1, default=0.5)))\n",
    "    model.add(layers.Conv1D(filters=hp.Int(\n",
    "    'num_filters',\n",
    "    16, 128,\n",
    "    step=16\n",
    "),kernel_size=3,strides=1,padding='same',activation='relu'))\n",
    "    model.add(BatchNormalization(momentum = 0.99))\n",
    "    model.add(Dropout(hp.Float('dropout', 0, 0.5, step=0.1, default=0.5)))\n",
    "    model.add(layers.Dense(units=hp.Int('units',min_value=16,max_value=512,step=32,default=128),activation = 'relu'))\n",
    "    model.add(Dropout(hp.Float('dropout', 0, 0.5, step=0.1, default=0.5)))\n",
    "    model.add(layers.Dense(1, activation = 'linear'))\n",
    "    \n",
    "    model.compile(\n",
    "        optimizer='adam',\n",
    "        loss=['mean_squared_error'],\n",
    "        metrics=[tf.keras.metrics.RootMeanSquaredError()]\n",
    "    )\n",
    "    return model\n",
    "              \n",
    "tuner = RandomSearch(\n",
    "    build_model_test,\n",
    "    objective=kerastuner.Objective(\"val_root_mean_squared_error\", direction=\"min\"),\n",
    "    max_trials=20,\n",
    "    executions_per_trial=3,\n",
    "    directory='my_dir',\n",
    "    project_name='helloworld')\n",
    "             \n",
    "              \n",
    "x_train,x_test=dataframes[0:734,:,:],dataframes[734:1100,:,:]\n",
    "y_train,y_test=target_fx[0:734,:,:],target_fx[734:1100,:,:]\n",
    "              \n",
    "\n",
    "    \n",
    "tuner.search(x_train, y_train,\n",
    "             epochs=20,\n",
    "             validation_data=(x_test, y_test))\n",
    "tuner.results_summary()\n",
    "\n",
    "# Retrieve the best model.\n",
    "best_model = tuner.get_best_models(num_models=1)[0]\n",
    "\n",
    "# Evaluate the best model.\n",
    "loss, accuracy = best_model.evaluate(x_test, y_test)\n",
    "\n",
    "MODEL = tuner.get_best_models(num_models=1)\n",
    "model = MODEL\n",
    "\n",
    "\n",
    "\n",
    "history = best_model.fit(\n",
    "        x_train,\n",
    "        y_train,\n",
    "        epochs=200,\n",
    "        validation_data=(\n",
    "            x_test,\n",
    "            y_test),\n",
    "        callbacks=[tf.keras.callbacks.EarlyStopping(\n",
    "            monitor = 'val_loss',\n",
    "            min_delta=0.00001,\n",
    "            patience = 5),\n",
    "            ProgbarLogger(count_mode='samples',stateful_metrics=None)\n",
    "                   ,cp_callback\n",
    "        ]\n",
    "    )\n",
    "\n",
    "predict_n = best_model.predict(x_test)\n",
    "predict_n = predict_n.astype(np.float64)\n",
    "corr_value, p_value = pearsonr(predict_n.ravel(), y_test.ravel())   \n",
    "print(corr_value,round(p_value,4))\n",
    "print(\"correlation:\"+str(corr_value)+\" p_value:\"+str(p_value))\n",
    "fig = plt.figure(figsize=(20, 20))\n",
    "plot_corr(y_test.ravel(), predict_n.ravel(),corr_value)"
   ]
  },
  {
   "cell_type": "code",
   "execution_count": 21,
   "metadata": {},
   "outputs": [
    {
     "name": "stdout",
     "output_type": "stream",
     "text": [
      "[<tensorflow.python.keras.engine.sequential.Sequential object at 0x0000026288FCC188>]\n"
     ]
    }
   ],
   "source": [
    "print(model)"
   ]
  },
  {
   "cell_type": "code",
   "execution_count": 22,
   "metadata": {},
   "outputs": [
    {
     "ename": "AttributeError",
     "evalue": "'list' object has no attribute 'summary'",
     "output_type": "error",
     "traceback": [
      "\u001b[1;31m---------------------------------------------------------------------------\u001b[0m",
      "\u001b[1;31mAttributeError\u001b[0m                            Traceback (most recent call last)",
      "\u001b[1;32m<ipython-input-22-5f15418b3570>\u001b[0m in \u001b[0;36m<module>\u001b[1;34m\u001b[0m\n\u001b[1;32m----> 1\u001b[1;33m \u001b[0mmodel\u001b[0m\u001b[1;33m.\u001b[0m\u001b[0msummary\u001b[0m\u001b[1;33m(\u001b[0m\u001b[1;33m)\u001b[0m\u001b[1;33m\u001b[0m\u001b[1;33m\u001b[0m\u001b[0m\n\u001b[0m",
      "\u001b[1;31mAttributeError\u001b[0m: 'list' object has no attribute 'summary'"
     ]
    }
   ],
   "source": [
    "model.summary()"
   ]
  },
  {
   "cell_type": "code",
   "execution_count": null,
   "metadata": {},
   "outputs": [],
   "source": []
  }
 ],
 "metadata": {
  "kernelspec": {
   "display_name": "Python 3",
   "language": "python",
   "name": "python3"
  },
  "language_info": {
   "codemirror_mode": {
    "name": "ipython",
    "version": 3
   },
   "file_extension": ".py",
   "mimetype": "text/x-python",
   "name": "python",
   "nbconvert_exporter": "python",
   "pygments_lexer": "ipython3",
   "version": "3.7.9"
  }
 },
 "nbformat": 4,
 "nbformat_minor": 4
}
