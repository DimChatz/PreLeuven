{
 "cells": [
  {
   "cell_type": "markdown",
   "id": "367b79ac",
   "metadata": {},
   "source": [
    "# CNN and LSTM classifiers for subgroups"
   ]
  },
  {
   "cell_type": "markdown",
   "id": "81ddc78b",
   "metadata": {},
   "source": [
    "### importing libraries"
   ]
  },
  {
   "cell_type": "code",
   "execution_count": 1,
   "id": "515f2505",
   "metadata": {},
   "outputs": [],
   "source": [
    "import tensorflow as tf\n",
    "from tensorflow.keras.layers import *\n",
    "from tensorflow.keras.optimizers import Adam\n",
    "from tensorflow.keras.callbacks\timport ModelCheckpoint, ReduceLROnPlateau, EarlyStopping\n",
    "from tensorflow.keras import Model\n",
    "import keras.backend as K\n",
    "from keras.models import load_model\n",
    "import pandas as pd # This is a library for data analysis \n",
    "pd.set_option('display.max_rows', 120)\n",
    "import numpy as np"
   ]
  },
  {
   "cell_type": "markdown",
   "id": "22712be2",
   "metadata": {},
   "source": [
    "## Hyperparameters"
   ]
  },
  {
   "cell_type": "code",
   "execution_count": 2,
   "id": "7ce7829c",
   "metadata": {},
   "outputs": [],
   "source": [
    "# File path for reading\n",
    "filepath = r'C:/Users/xatzo/Downloads/IGL_modified.xlsx'\n",
    "\n",
    "# outputs of model\n",
    "classes = 1000"
   ]
  },
  {
   "cell_type": "markdown",
   "id": "fe98cce7",
   "metadata": {},
   "source": [
    "### Models"
   ]
  },
  {
   "cell_type": "code",
   "execution_count": null,
   "id": "c73cac3d",
   "metadata": {},
   "outputs": [],
   "source": [
    "def cnn(inputs):\n",
    "    embed = Embedding(input_dim=4, output_dim=8, input_length=1000)(inputs)\n",
    "    conv1 = Conv1D(filter_size=128, kernel_size=2, activation='relu')(embed)\n",
    "    max1 = MaxPool1D(pool_size=2,strides=None)(conv1) # they dont specify strides, weird, check it\n",
    "    conv2 = Conv1D(filter_size=64, kernel_size=2, activation='relu')(max1)\n",
    "    max2 = MaxPool1D(pool_size=2,strides=None)(conv2) # they dont specify strides, weird, check it\n",
    "    flat = Flatten()(max2)\n",
    "    dense1 = Dense(units=128, activation='softmax')(flat)\n",
    "    desne2 = Dense(units=64, activation='softmax')(dense1)\n",
    "    output = Dense(units=classes, activation='softmax')(dense2)\n",
    "    \n",
    "    \n",
    "def cnnLSTM(inputs):\n",
    "    embed = Embedding(input_dim=4, output_dim=8, input_length=1000)(inputs)\n",
    "    conv1 = Conv1D(filter_size=128, kernel_size=2, activation='relu')(embed)\n",
    "    max1 = MaxPool1D(pool_size=2,strides=None)(conv1) # they dont specify strides, weird, check it\n",
    "    conv2 = Conv1D(filter_size=64, kernel_size=2, activation='relu')(max1)\n",
    "    max2 = MaxPool1D(pool_size=2,strides=None)(conv2) # they dont specify strides, weird, check it\n",
    "    lstm = LSTM(units=100)(max2)\n",
    "    flat = Flatten()(lstm)\n",
    "    output = Dense(units=classes, activation='softmax')(flat)\n",
    "    \n",
    "    \n",
    "def cnnBiLSTM(inputs):\n",
    "    embed = Embedding(input_dim=4, output_dim=8, input_length=1000)(inputs)\n",
    "    conv1 = Conv1D(filter_size=128, kernel_size=2, activation='relu')(embed)\n",
    "    max1 = MaxPool1D(pool_size=2,strides=None)(conv1) # they dont specify strides, weird, check it\n",
    "    conv2 = Conv1D(filter_size=64, kernel_size=2, activation='relu')(max1)\n",
    "    max2 = MaxPool1D(pool_size=2,strides=None)(conv2) # they dont specify strides, weird, check it\n",
    "    lstm = Bidirectional(LSTM(units=100)(max2))\n",
    "    flat = Flatten()(lstm)\n",
    "    output = Dense(units=classes, activation='softmax')(flat)"
   ]
  },
  {
   "cell_type": "markdown",
   "id": "013c0cb9",
   "metadata": {},
   "source": [
    "### Useful functions"
   ]
  },
  {
   "cell_type": "code",
   "execution_count": null,
   "id": "efe6a0b8",
   "metadata": {},
   "outputs": [],
   "source": []
  },
  {
   "cell_type": "markdown",
   "id": "acf97055",
   "metadata": {},
   "source": [
    "# Main"
   ]
  },
  {
   "cell_type": "markdown",
   "id": "b2f33547",
   "metadata": {},
   "source": [
    "### Read sequences"
   ]
  },
  {
   "cell_type": "code",
   "execution_count": 3,
   "id": "bc61d21c",
   "metadata": {},
   "outputs": [],
   "source": [
    "# Read excel\n",
    "df = pd.read_excel (filepath)\n",
    "length = df.shape[0]"
   ]
  },
  {
   "cell_type": "markdown",
   "id": "16801958",
   "metadata": {},
   "source": [
    "### Preprocess sequences"
   ]
  },
  {
   "cell_type": "code",
   "execution_count": 4,
   "id": "508fd1eb",
   "metadata": {},
   "outputs": [],
   "source": [
    "df[\"L-PART1-new\"] = df[\"L-PART1\"].replace(\"'\", \"\") # To get rid of the \"'\" symbol\n",
    "df[\"L-PART1-new2\"] = df[\"L-PART1-new\"].replace(\".\", \"\") # To get rid of the \" .\" symbol\n",
    "sequences = df[\"L-PART1-new2\"].fillna(np.float64(0)) # To clear out any nans into floats since the data column are floats\n",
    "sequences =  sequences[sequences!=0]"
   ]
  },
  {
   "cell_type": "markdown",
   "id": "c7e5b237",
   "metadata": {},
   "source": [
    "### Training"
   ]
  },
  {
   "cell_type": "code",
   "execution_count": null,
   "id": "59554682",
   "metadata": {},
   "outputs": [],
   "source": []
  },
  {
   "cell_type": "markdown",
   "id": "4a552cd1",
   "metadata": {},
   "source": [
    "### Testing"
   ]
  },
  {
   "cell_type": "code",
   "execution_count": null,
   "id": "473072d1",
   "metadata": {},
   "outputs": [],
   "source": []
  }
 ],
 "metadata": {
  "kernelspec": {
   "display_name": "Python 3 (ipykernel)",
   "language": "python",
   "name": "python3"
  },
  "language_info": {
   "codemirror_mode": {
    "name": "ipython",
    "version": 3
   },
   "file_extension": ".py",
   "mimetype": "text/x-python",
   "name": "python",
   "nbconvert_exporter": "python",
   "pygments_lexer": "ipython3",
   "version": "3.8.11"
  }
 },
 "nbformat": 4,
 "nbformat_minor": 5
}
