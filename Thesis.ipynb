{
 "cells": [
  {
   "cell_type": "markdown",
   "metadata": {},
   "source": [
    "# Thesis \n",
    "## Deep learning and mammography"
   ]
  },
  {
   "cell_type": "markdown",
   "metadata": {},
   "source": [
    "### libraries"
   ]
  },
  {
   "cell_type": "code",
   "execution_count": null,
   "metadata": {},
   "outputs": [],
   "source": [
    "import numpy as np\n",
    "import tensorflow as tf\n",
    "import cv2 as cv\n",
    "import glob\n",
    "import os"
   ]
  },
  {
   "cell_type": "markdown",
   "metadata": {},
   "source": [
    "### import images"
   ]
  },
  {
   "cell_type": "code",
   "execution_count": null,
   "metadata": {},
   "outputs": [],
   "source": [
    "# initialize array\n",
    "# first dimension is the number of datapoints\n",
    "# second-third dimensions are the width and height of photo\n",
    "# fourth is the classfication to normal benign or malignant\n",
    "# fifth is the x,y dimension of the tumor and its radius\n",
    "ImgArr=np.zeros((313,1024,1024,1,3))\n",
    "\n",
    "#create path to file with data\n",
    "path ='/home/tzikos/Downloads/MIAS/DATA'  \n",
    "all_files = glob.glob(os.path.join(path, \"*.pgm\"))\n",
    "\n",
    "# assign first 3 dimensions of data to matrix\n",
    "for i,f in enumerate(all_files):\n",
    "    img=cv.imread(f,0)\n",
    "    for x in range(1024):\n",
    "        for y in range(1024):\n",
    "            ImgArr[i,x,y,:,:]=img[x,y]"
   ]
  },
  {
   "cell_type": "markdown",
   "metadata": {},
   "source": [
    "### import annotations for classification and segmentation"
   ]
  },
  {
   "cell_type": "code",
   "execution_count": null,
   "metadata": {},
   "outputs": [],
   "source": [
    "path ='/home/tzikos/Downloads/MIAS/annotation.txt'\n",
    "f=open(path,'r')\n",
    "\n",
    "for i,line in enumerate(f):\n",
    "    a=line.split()\n",
    "    for z in a:\n",
    "        if a[2]==\"NORM\":\n",
    "            ImgArr[i,:,:,0,:]=0\n",
    "        elif a[3]==\"B\":\n",
    "                ImgArr[i,:,:,0,:]=1\n",
    "                ImgArr[i,:,:,0,0]=a[4]\n",
    "                ImgArr[i,:,:,0,1]=a[5]\n",
    "                ImgArr[i,:,:,0,2]=a[6]\n",
    "        elif a[3]==\"M\":\n",
    "                ImgArr[i,:,:,0,:]=2\n",
    "                ImgArr[i,:,:,0,0]=a[4]\n",
    "                ImgArr[i,:,:,0,1]=a[5]\n",
    "                ImgArr[i,:,:,0,2]=a[6]        "
   ]
  }
 ],
 "metadata": {
  "kernelspec": {
   "display_name": "Python 3",
   "language": "python",
   "name": "python3"
  },
  "language_info": {
   "codemirror_mode": {
    "name": "ipython",
    "version": 3
   },
   "file_extension": ".py",
   "mimetype": "text/x-python",
   "name": "python",
   "nbconvert_exporter": "python",
   "pygments_lexer": "ipython3",
   "version": "3.6.6"
  }
 },
 "nbformat": 4,
 "nbformat_minor": 4
}
