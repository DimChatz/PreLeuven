{
 "cells": [
  {
   "cell_type": "markdown",
   "metadata": {},
   "source": [
    "# code for calculating the entropy of the current in the reverse correlation method"
   ]
  },
  {
   "cell_type": "markdown",
   "metadata": {},
   "source": [
    "### what this code will do is bin the current in 20 bins by finding the max and min first."
   ]
  },
  {
   "cell_type": "code",
   "execution_count": 1,
   "metadata": {},
   "outputs": [
    {
     "name": "stdout",
     "output_type": "stream",
     "text": [
      "5.44451767\n",
      "-5.16171958\n"
     ]
    }
   ],
   "source": [
    "import numpy as np\n",
    "\n",
    "maxx=0\n",
    "minn=1000\n",
    "\n",
    "file=open('INput_RZ.txt','r')\n",
    "for x in file:\n",
    "    if float(x)>maxx:\n",
    "        maxx=float(x)\n",
    "    if float(x)<minn:\n",
    "        minn=float(x)\n",
    "print(maxx)\n",
    "print(minn)\n",
    "file.close()\n",
    "\n",
    "dist=(maxx-minn)/20"
   ]
  },
  {
   "cell_type": "markdown",
   "metadata": {},
   "source": [
    "### Creation of bins and reading the data"
   ]
  },
  {
   "cell_type": "code",
   "execution_count": 2,
   "metadata": {},
   "outputs": [],
   "source": [
    "listt=[0,0,0,0,0,0,0,0,0,0,0,0,0,0,0,0,0,0,0,0]\n",
    "\n",
    "file=open('INput_RZ.txt','r')\n",
    "for x in file:\n",
    "    if float(x)<=(minn+dist):\n",
    "        listt[0]+=1\n",
    "        continue\n",
    "    if float(x)<=(minn+2*dist) and float(x)>(minn+dist):\n",
    "        listt[1]+=1\n",
    "        continue\n",
    "    if float(x)<=(minn+3*dist) and float(x)>(minn+2*dist):\n",
    "        listt[2]+=1\n",
    "        continue\n",
    "    if float(x)<=(minn+4*dist) and float(x)>(minn+3*dist):\n",
    "        listt[3]+=1\n",
    "        continue\n",
    "    if float(x)<=(minn+5*dist) and float(x)>(minn+4*dist):\n",
    "        listt[4]+=1\n",
    "        continue\n",
    "    if float(x)<=(minn+6*dist) and float(x)>(minn+5*dist):\n",
    "        listt[5]+=1\n",
    "        continue\n",
    "    if float(x)<=(minn+7*dist) and float(x)>(minn+6*dist):\n",
    "        listt[6]+=1\n",
    "        continue\n",
    "    if float(x)<=(minn+8*dist) and float(x)>(minn+7*dist):\n",
    "        listt[7]+=1\n",
    "        continue\n",
    "    if float(x)<=(minn+9*dist) and float(x)>(minn+8*dist):\n",
    "        listt[8]+=1\n",
    "        continue\n",
    "    if float(x)<=(minn+10*dist) and float(x)>(minn+9*dist):\n",
    "        listt[9]+=1\n",
    "        continue\n",
    "    if float(x)<=(minn+11*dist) and float(x)>(minn+10*dist):\n",
    "        listt[10]+=1\n",
    "        continue\n",
    "    if float(x)<=(minn+12*dist) and float(x)>(minn+11*dist):\n",
    "        listt[11]+=1\n",
    "        continue\n",
    "    if float(x)<=(minn+13*dist) and float(x)>(minn+12*dist):\n",
    "        listt[12]+=1\n",
    "        continue\n",
    "    if float(x)<=(minn+14*dist) and float(x)>(minn+13*dist):\n",
    "        listt[13]+=1\n",
    "        continue\n",
    "    if float(x)<=(minn+15*dist) and float(x)>(minn+14*dist):\n",
    "        listt[14]+=1\n",
    "        continue\n",
    "    if float(x)<=(minn+16*dist) and float(x)>(minn+15*dist):\n",
    "        listt[15]+=1\n",
    "        continue\n",
    "    if float(x)<=(minn+17*dist) and float(x)>(minn+16*dist):\n",
    "        listt[16]+=1\n",
    "        continue\n",
    "    if float(x)<=(minn+18*dist) and float(x)>(minn+17*dist):\n",
    "        listt[17]+=1\n",
    "        continue\n",
    "    if float(x)<=(minn+19*dist) and float(x)>(minn+18*dist):\n",
    "        listt[18]+=1\n",
    "        continue\n",
    "    if float(x)<=(minn+20*dist) and float(x)>(minn+19*dist):\n",
    "        listt[19]+=1\n",
    "        continue\n",
    "file.close()"
   ]
  },
  {
   "cell_type": "markdown",
   "metadata": {},
   "source": [
    "### finding the entropy"
   ]
  },
  {
   "cell_type": "code",
   "execution_count": 3,
   "metadata": {},
   "outputs": [
    {
     "name": "stdout",
     "output_type": "stream",
     "text": [
      "entropy = 1.698144475449733\n"
     ]
    }
   ],
   "source": [
    "summ=0\n",
    "p=[]\n",
    "entropy=0\n",
    "\n",
    "for i in range(20):\n",
    "    summ+=listt[i]\n",
    "#print(summ)\n",
    "for i in range(20):\n",
    "    p.append(-listt[i]/summ*np.log(listt[i]/summ))\n",
    "    entropy+=p[i]\n",
    "    #print(listt[i]/summ)\n",
    "print(\"entropy =\",entropy)"
   ]
  },
  {
   "cell_type": "code",
   "execution_count": null,
   "metadata": {},
   "outputs": [],
   "source": []
  }
 ],
 "metadata": {
  "kernelspec": {
   "display_name": "Python 3",
   "language": "python",
   "name": "python3"
  },
  "language_info": {
   "codemirror_mode": {
    "name": "ipython",
    "version": 3
   },
   "file_extension": ".py",
   "mimetype": "text/x-python",
   "name": "python",
   "nbconvert_exporter": "python",
   "pygments_lexer": "ipython3",
   "version": "3.6.6"
  }
 },
 "nbformat": 4,
 "nbformat_minor": 2
}
