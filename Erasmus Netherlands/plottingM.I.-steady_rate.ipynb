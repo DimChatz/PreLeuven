{
 "cells": [
  {
   "cell_type": "markdown",
   "metadata": {},
   "source": [
    "### Code for analysing the results (steady-rates)\n",
    "we will create plots of M.I. to the firing rates and bw <br>\n",
    "**the firing rate was made to be held relatively constant for every neuron model based on a 10 sec simulation of the total 300 second** <br>\n",
    "\n",
    "# Reverse correlation method"
   ]
  },
  {
   "cell_type": "code",
   "execution_count": 1,
   "metadata": {},
   "outputs": [],
   "source": [
    "#list of mutual information for the reverse correlation method\n",
    "revcorr1=[39.86,31.55,46.84,48.18,48.19,53.31]\n",
    "revcorr2=[45.23,48.68,47.49,53.30,54.65,61.82]\n",
    "revcorr3=[45.04,47.13,48.28,51.06,56.02,59.27]\n",
    "revcorr4=[43.12,45.90,35.33,47.10,35.11,51.72]\n",
    "revcorr5=[41.48,42.04,44.26,46.03,49.61,55.76]\n",
    "revcorr6=[47.58,46.79,50.85,49.46,50.56,63.07]\n",
    "revcorr7=[47.20,48.77,49.96,53.92,56.66,63.15]\n",
    "revcorr8=[44.05,45.28,45.86,47.40,49.58,55.59]\n",
    "revcorr9=[49.18,49.63,50.96,49.07,55.39,59.63]\n",
    "revcorr10=[26.24,33.03,35.46,28.06,37.93,42.27]\n",
    "\n",
    "#list of Bw\n",
    "bw=[0,-4,-8,-13,-17,-21]\n",
    "\n",
    "#Calculating firing rates\n",
    "count=0\n",
    "rates=[]\n",
    "for i in range(6):\n",
    "    if i>=3:\n",
    "        i=i*4+1\n",
    "    else:\n",
    "        i=i*4\n",
    "    #print(i)\n",
    "    file=open(\"steady_rate/spiketrain-steadyR-\"+str(i)+\".txt\",\"r\")\n",
    "    for line in file:\n",
    "        if float(line)==1:\n",
    "            count+=1;\n",
    "    file.close()\n",
    "    #print (count/300)\n",
    "    rates.append(count/300)\n",
    "    count=0\n",
    "rates\n",
    "\n",
    "for i in range(6):\n",
    "    if i>=3:\n",
    "        i=i*4+1\n",
    "    else:\n",
    "        i=i*4\n",
    "    #print(i)\n",
    "    file=open(\"steady_rate/spiketrain-steadyR-\"+str(i)+\".txt\",\"r\")\n",
    "    for line in file:\n",
    "        if float(line)==1:\n",
    "            count+=1;\n",
    "    file.close()\n",
    "    #print (count/300)\n",
    "    rates.append(count/300)\n",
    "    count=0\n",
    "    \n",
    "rates2=[]\n",
    "for i in range(6):\n",
    "    if i>=3:\n",
    "        i=i*4+1\n",
    "    else:\n",
    "        i=i*4\n",
    "    #print(i)\n",
    "    file=open(\"steady_rate/spiketrain-steadyR-2-\"+str(i)+\".txt\",\"r\")\n",
    "    for line in file:\n",
    "        if float(line)==1:\n",
    "            count+=1;\n",
    "    file.close()\n",
    "    #print (count/300)\n",
    "    rates2.append(count/300)\n",
    "    count=0\n",
    "\n",
    "rates3=[]\n",
    "for i in range(6):\n",
    "    if i>=3:\n",
    "        i=i*4+1\n",
    "    else:\n",
    "        i=i*4\n",
    "    #print(i)\n",
    "    file=open(\"steady_rate/spiketrain-steadyR-3-\"+str(i)+\".txt\",\"r\")\n",
    "    for line in file:\n",
    "        if float(line)==1:\n",
    "            count+=1;\n",
    "    file.close()\n",
    "    #print (count/300)\n",
    "    rates3.append(count/300)\n",
    "    count=0\n",
    "    \n",
    "rates4=[]\n",
    "for i in range(6):\n",
    "    if i>=3:\n",
    "        i=i*4+1\n",
    "    else:\n",
    "        i=i*4\n",
    "    #print(i)\n",
    "    file=open(\"steady_rate/spiketrain-steadyR-4-\"+str(i)+\".txt\",\"r\")\n",
    "    for line in file:\n",
    "        if float(line)==1:\n",
    "            count+=1;\n",
    "    file.close()\n",
    "    #print (count/300)\n",
    "    rates4.append(count/300)\n",
    "    count=0\n",
    "\n",
    "rates5=[]\n",
    "for i in range(6):\n",
    "    if i>=3:\n",
    "        i=i*4+1\n",
    "    else:\n",
    "        i=i*4\n",
    "    #print(i)\n",
    "    file=open(\"steady_rate/spiketrain-steadyR-5-\"+str(i)+\".txt\",\"r\")\n",
    "    for line in file:\n",
    "        if float(line)==1:\n",
    "            count+=1;\n",
    "    file.close()\n",
    "    #print (count/300)\n",
    "    rates5.append(count/300)\n",
    "    count=0\n",
    "\n",
    "rates6=[]\n",
    "for i in range(6):\n",
    "    if i>=3:\n",
    "        i=i*4+1\n",
    "    else:\n",
    "        i=i*4\n",
    "    #print(i)\n",
    "    file=open(\"steady_rate/spiketrain-steadyR-6-\"+str(i)+\".txt\",\"r\")\n",
    "    for line in file:\n",
    "        if float(line)==1:\n",
    "            count+=1;\n",
    "    file.close()\n",
    "    #print (count/300)\n",
    "    rates6.append(count/300)\n",
    "    count=0\n",
    "    \n",
    "rates7=[]\n",
    "for i in range(6):\n",
    "    if i>=3:\n",
    "        i=i*4+1\n",
    "    else:\n",
    "        i=i*4\n",
    "    #print(i)\n",
    "    file=open(\"steady_rate/spiketrain-steadyR-7-\"+str(i)+\".txt\",\"r\")\n",
    "    for line in file:\n",
    "        if float(line)==1:\n",
    "            count+=1;\n",
    "    file.close()\n",
    "    #print (count/300)\n",
    "    rates7.append(count/300)\n",
    "    count=0\n",
    "    \n",
    "rates8=[]\n",
    "for i in range(6):\n",
    "    if i>=3:\n",
    "        i=i*4+1\n",
    "    else:\n",
    "        i=i*4\n",
    "    #print(i)\n",
    "    file=open(\"steady_rate/spiketrain-steadyR-8-\"+str(i)+\".txt\",\"r\")\n",
    "    for line in file:\n",
    "        if float(line)==1:\n",
    "            count+=1;\n",
    "    file.close()\n",
    "    #print (count/300)\n",
    "    rates8.append(count/300)\n",
    "    count=0\n",
    "    \n",
    "rates9=[]\n",
    "for i in range(6):\n",
    "    if i>=3:\n",
    "        i=i*4+1\n",
    "    else:\n",
    "        i=i*4\n",
    "    #print(i)\n",
    "    file=open(\"steady_rate/spiketrain-steadyR-9-\"+str(i)+\".txt\",\"r\")\n",
    "    for line in file:\n",
    "        if float(line)==1:\n",
    "            count+=1;\n",
    "    file.close()\n",
    "    #print (count/300)\n",
    "    rates9.append(count/300)\n",
    "    count=0\n",
    "    \n",
    "rates10=[]\n",
    "for i in range(6):\n",
    "    if i>=3:\n",
    "        i=i*4+1\n",
    "    else:\n",
    "        i=i*4\n",
    "    #print(i)\n",
    "    file=open(\"steady_rate/spiketrain-steadyR-10-\"+str(i)+\".txt\",\"r\")\n",
    "    for line in file:\n",
    "        if float(line)==1:\n",
    "            count+=1;\n",
    "    file.close()\n",
    "    #print (count/300)\n",
    "    rates10.append(count/300)\n",
    "    count=0"
   ]
  },
  {
   "cell_type": "markdown",
   "metadata": {},
   "source": [
    "## plotting rates and M.I. Zeldenrust\n",
    "libraries"
   ]
  },
  {
   "cell_type": "code",
   "execution_count": 2,
   "metadata": {},
   "outputs": [],
   "source": [
    "from brian2 import *\n",
    "%matplotlib inline\n",
    "\n",
    "start_scope()"
   ]
  },
  {
   "cell_type": "markdown",
   "metadata": {},
   "source": [
    "### actual plot"
   ]
  },
  {
   "cell_type": "code",
   "execution_count": 7,
   "metadata": {},
   "outputs": [
    {
     "data": {
      "text/plain": [
       "(0, 65)"
      ]
     },
     "execution_count": 7,
     "metadata": {},
     "output_type": "execute_result"
    },
    {
     "data": {
      "image/png": "[encoded data removed]",
      "text/plain": [
       "<Figure size 1728x576 with 1 Axes>"
      ]
     },
     "metadata": {
      "needs_background": "light"
     },
     "output_type": "display_data"
    }
   ],
   "source": [
    "#plot of M.I. to bw\n",
    "figure(figsize=(24,8))\n",
    "subplot(121)\n",
    "plot(bw,revcorr1,'bo',bw,revcorr2,'ro',bw,revcorr3,'go',bw,revcorr4,'yo',bw,revcorr5,'mo',\n",
    "    bw,revcorr6,'b^',bw,revcorr7,'r^',bw,revcorr8,'g^',bw,revcorr9,'y^',bw,revcorr10,'m^')\n",
    "xlabel('bw values')\n",
    "ylabel('M.I.')\n",
    "title(\"M.I. - bw evolution\")\n",
    "ylim((0,65))"
   ]
  },
  {
   "cell_type": "markdown",
   "metadata": {},
   "source": [
    "# Zeldenrust method"
   ]
  },
  {
   "cell_type": "code",
   "execution_count": 4,
   "metadata": {},
   "outputs": [],
   "source": [
    "#mutual information between hidden state and spiketrain\n",
    "zeld_s=[0.1771,0.1803,0.1799,0.1831,0.1835,0.1827]\n",
    "zeld_s2=[0.1580,0.1602,0.1623,0.1674,0.1692,0.1715]\n",
    "zeld_s3=[0.1684,0.1693,0.1732,0.1756,0.1808,0.1796]\n",
    "zeld_s4=[0.1699,0.1710,0.1752,0.1750,0.1776,0.1767]\n",
    "zeld_s5=[0.1672,0.1688,0.1704,0.1758,0.1760,0.1766]\n",
    "zeld_s6=[0.1608,0.1629,0.1626,0.1624,0.1679,0.1695]\n",
    "zeld_s7=[0.1608,0.1631,0.1664,0.1690,0.1703,0.1687]\n",
    "zeld_s8=[0.1575,0.1604,0.1617,0.1634,0.1662,0.1654]\n",
    "zeld_s9=[0.1588,0.1619,0.1643,0.1689,0.1702,0.1728]\n",
    "zeld_s10=[0.1597,0.1618,0.1644,0.1699,0.1724,0.1741]"
   ]
  },
  {
   "cell_type": "markdown",
   "metadata": {},
   "source": [
    "### plots "
   ]
  },
  {
   "cell_type": "code",
   "execution_count": 6,
   "metadata": {},
   "outputs": [
    {
     "data": {
      "text/plain": [
       "(0.1, 0.2)"
      ]
     },
     "execution_count": 6,
     "metadata": {},
     "output_type": "execute_result"
    },
    {
     "data": {
      "image/png": "[encoded data removed]",
      "text/plain": [
       "<Figure size 1728x576 with 1 Axes>"
      ]
     },
     "metadata": {
      "needs_background": "light"
     },
     "output_type": "display_data"
    }
   ],
   "source": [
    "#plot of M.I. to bw\n",
    "figure(figsize=(24,8))\n",
    "subplot(121)\n",
    "plot(bw,zeld_s,'bo',bw,zeld_s2,'ro',bw,zeld_s3,'go',bw,zeld_s4,'yo',bw,zeld_s5,'mo',\n",
    "    bw,zeld_s6,'b^',bw,zeld_s7,'r^',bw,zeld_s8,'g^',bw,zeld_s9,'y^',bw,zeld_s10,'m^')\n",
    "xlabel('bw values')\n",
    "ylabel('M.I.')\n",
    "title(\"M.I. - bw evolution\")\n",
    "ylim((0.1,0.2))\n",
    "\n"
   ]
  },
  {
   "cell_type": "markdown",
   "metadata": {},
   "source": [
    "# Comments\n",
    "\n",
    "In the first plot (reverse correlation) the m.i. doesnt fall off as rates decrease but increases ??? <br>\n",
    "In the second plots it is the same. The m.i. increases as firing rate falls off. <br>\n",
    "\n",
    "**COMMENT**:The MSE error were of the order of 10^5"
   ]
  },
  {
   "cell_type": "code",
   "execution_count": null,
   "metadata": {},
   "outputs": [],
   "source": []
  }
 ],
 "metadata": {
  "kernelspec": {
   "display_name": "Python 3",
   "language": "python",
   "name": "python3"
  },
  "language_info": {
   "codemirror_mode": {
    "name": "ipython",
    "version": 3
   },
   "file_extension": ".py",
   "mimetype": "text/x-python",
   "name": "python",
   "nbconvert_exporter": "python",
   "pygments_lexer": "ipython3",
   "version": "3.6.6"
  }
 },
 "nbformat": 4,
 "nbformat_minor": 2
}
