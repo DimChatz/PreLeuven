{
 "cells": [
  {
   "cell_type": "markdown",
   "metadata": {},
   "source": [
    "### Code for analysing the results (steady-I)\n",
    "\n",
    "we will create plots of M.I. to the firing rates <br>\n",
    "**the current was held constant for every neuron model** <br>\n",
    "the highest firing rate is for the highest bw (bw=0) and the rates fall of as bw becomes more negative\n",
    "\n",
    "# Reverse correlation"
   ]
  },
  {
   "cell_type": "code",
   "execution_count": 1,
   "metadata": {},
   "outputs": [],
   "source": [
    "#list of mutual information for the reverse correlation method\n",
    "revcorr1=[40.30,43.86,45.03,45.41,36.93,43.80]\n",
    "revcorr2=[46.47,49.19,51.11,53.93,53.69,54.15]\n",
    "revcorr3=[50.92,50.83,50.80,25.61,49.84,51.21]\n",
    "revcorr4=[45.96,49.02,47.68,44.92,31.55,43.94]\n",
    "revcorr5=[48.53,43.46,46.99,48.51,49.05,49.74]\n",
    "revcorr6=[48.30,47.98,46.75,52.65,51.05,48.04]\n",
    "revcorr7=[47.32,58.64,44.21,52.68,54.39,53.03]\n",
    "revcorr8=[47.38,48.42,47.39,47.06,47.68,49.74]\n",
    "revcorr9=[45.89,54.57,50.91,54.58,55.22,50.91]\n",
    "revcorr10=[35.40,33.89,36.63,28.06,36.04,38.76]\n",
    "\n",
    "#list of Bw\n",
    "bw=[0,-4,-8,-13,-17,-21]\n",
    "\n",
    "#Calculating firing rates\n",
    "count=0\n",
    "rates=[]\n",
    "for i in range(6):\n",
    "    if i>=3:\n",
    "        i=i*4+1\n",
    "    else:\n",
    "        i=i*4\n",
    "    #print(i)\n",
    "    file=open(\"steady_I/spiketrain-steadyI-\"+str(i)+\".txt\",\"r\")\n",
    "    for line in file:\n",
    "        if float(line)==1:\n",
    "            count+=1;\n",
    "    file.close()\n",
    "    #print (count/300) #dividing by number of seconds\n",
    "    rates.append(count/300)\n",
    "    count=0\n",
    "rates\n",
    "\n",
    "rates2=[]\n",
    "for i in range(6):\n",
    "    if i>=3:\n",
    "        i=i*4+1\n",
    "    else:\n",
    "        i=i*4\n",
    "    #print(i)\n",
    "    file=open(\"steady_I/spiketrain-steadyI-2-\"+str(i)+\".txt\",\"r\")\n",
    "    for line in file:\n",
    "        if float(line)==1:\n",
    "            count+=1;\n",
    "    file.close()\n",
    "    #print (count/300) #dividing by number of seconds\n",
    "    rates2.append(count/300)\n",
    "    count=0\n",
    "    \n",
    "rates3=[]\n",
    "for i in range(6):\n",
    "    if i>=3:\n",
    "        i=i*4+1\n",
    "    else:\n",
    "        i=i*4\n",
    "    #print(i)\n",
    "    file=open(\"steady_I/spiketrain-steadyI-3-\"+str(i)+\".txt\",\"r\")\n",
    "    for line in file:\n",
    "        if float(line)==1:\n",
    "            count+=1;\n",
    "    file.close()\n",
    "    #print (count/300) #dividing by number of seconds\n",
    "    rates3.append(count/300)\n",
    "    count=0\n",
    "    \n",
    "rates4=[]\n",
    "for i in range(6):\n",
    "    if i>=3:\n",
    "        i=i*4+1\n",
    "    else:\n",
    "        i=i*4\n",
    "    #print(i)\n",
    "    file=open(\"steady_I/spiketrain-steadyI-4-\"+str(i)+\".txt\",\"r\")\n",
    "    for line in file:\n",
    "        if float(line)==1:\n",
    "            count+=1;\n",
    "    file.close()\n",
    "    #print (count/300) #dividing by number of seconds\n",
    "    rates4.append(count/300)\n",
    "    count=0\n",
    "    \n",
    "rates5=[]\n",
    "for i in range(6):\n",
    "    if i>=3:\n",
    "        i=i*4+1\n",
    "    else:\n",
    "        i=i*4\n",
    "    #print(i)\n",
    "    file=open(\"steady_I/spiketrain-steadyI-5-\"+str(i)+\".txt\",\"r\")\n",
    "    for line in file:\n",
    "        if float(line)==1:\n",
    "            count+=1;\n",
    "    file.close()\n",
    "    #print (count/300) #dividing by number of seconds\n",
    "    rates5.append(count/300)\n",
    "    count=0\n",
    "    \n",
    "rates6=[]\n",
    "for i in range(6):\n",
    "    if i>=3:\n",
    "        i=i*4+1\n",
    "    else:\n",
    "        i=i*4\n",
    "    #print(i)\n",
    "    file=open(\"steady_I/spiketrain-steadyI-6-\"+str(i)+\".txt\",\"r\")\n",
    "    for line in file:\n",
    "        if float(line)==1:\n",
    "            count+=1;\n",
    "    file.close()\n",
    "    #print (count/300) #dividing by number of seconds\n",
    "    rates6.append(count/300)\n",
    "    count=0\n",
    "\n",
    "rates7=[]\n",
    "for i in range(6):\n",
    "    if i>=3:\n",
    "        i=i*4+1\n",
    "    else:\n",
    "        i=i*4\n",
    "    #print(i)\n",
    "    file=open(\"steady_I/spiketrain-steadyI-7-\"+str(i)+\".txt\",\"r\")\n",
    "    for line in file:\n",
    "        if float(line)==1:\n",
    "            count+=1;\n",
    "    file.close()\n",
    "    #print (count/300) #dividing by number of seconds\n",
    "    rates7.append(count/300)\n",
    "    count=0\n",
    "    \n",
    "rates8=[]\n",
    "for i in range(6):\n",
    "    if i>=3:\n",
    "        i=i*4+1\n",
    "    else:\n",
    "        i=i*4\n",
    "    #print(i)\n",
    "    file=open(\"steady_I/spiketrain-steadyI-8-\"+str(i)+\".txt\",\"r\")\n",
    "    for line in file:\n",
    "        if float(line)==1:\n",
    "            count+=1;\n",
    "    file.close()\n",
    "    #print (count/300) #dividing by number of seconds\n",
    "    rates8.append(count/300)\n",
    "    count=0\n",
    "    \n",
    "rates9=[]\n",
    "for i in range(6):\n",
    "    if i>=3:\n",
    "        i=i*4+1\n",
    "    else:\n",
    "        i=i*4\n",
    "    #print(i)\n",
    "    file=open(\"steady_I/spiketrain-steadyI-9-\"+str(i)+\".txt\",\"r\")\n",
    "    for line in file:\n",
    "        if float(line)==1:\n",
    "            count+=1;\n",
    "    file.close()\n",
    "    #print (count/300) #dividing by number of seconds\n",
    "    rates9.append(count/300)\n",
    "    count=0\n",
    "\n",
    "rates10=[]\n",
    "for i in range(6):\n",
    "    if i>=3:\n",
    "        i=i*4+1\n",
    "    else:\n",
    "        i=i*4\n",
    "    #print(i)\n",
    "    file=open(\"steady_I/spiketrain-steadyI-10-\"+str(i)+\".txt\",\"r\")\n",
    "    for line in file:\n",
    "        if float(line)==1:\n",
    "            count+=1;\n",
    "    file.close()\n",
    "    #print (count/300) #dividing by number of seconds\n",
    "    rates10.append(count/300)\n",
    "    count=0"
   ]
  },
  {
   "cell_type": "markdown",
   "metadata": {},
   "source": [
    "## plotting rates "
   ]
  },
  {
   "cell_type": "code",
   "execution_count": 2,
   "metadata": {},
   "outputs": [],
   "source": [
    "from brian2 import *\n",
    "%matplotlib inline\n",
    "\n",
    "start_scope()"
   ]
  },
  {
   "cell_type": "markdown",
   "metadata": {},
   "source": [
    "### actual plot"
   ]
  },
  {
   "cell_type": "code",
   "execution_count": 3,
   "metadata": {},
   "outputs": [
    {
     "data": {
      "text/plain": [
       "(0, 60)"
      ]
     },
     "execution_count": 3,
     "metadata": {},
     "output_type": "execute_result"
    },
    {
     "data": {
      "image/png": "[encoded data removed]",
      "text/plain": [
       "<Figure size 2592x864 with 1 Axes>"
      ]
     },
     "metadata": {
      "needs_background": "light"
     },
     "output_type": "display_data"
    }
   ],
   "source": [
    "figure(figsize=(36,12))\n",
    "subplot(121)\n",
    "plot(rates,revcorr1,'bo',rates2,revcorr2,'ro',rates3,revcorr3,'go',rates4,revcorr4,'yo',rates5,revcorr5,'mo',\n",
    "     rates6,revcorr6,'b^',rates7,revcorr7,'r^',rates8,revcorr8,'g^',rates9,revcorr9,'y^',rates10,revcorr10,'m^')\n",
    "xlabel('Firing rates (Hz)')\n",
    "ylabel('M.I.')\n",
    "title(\"M.I. - firing rate evolution\")\n",
    "ylim((0,60))"
   ]
  },
  {
   "cell_type": "markdown",
   "metadata": {},
   "source": [
    "# Zeldenrust method"
   ]
  },
  {
   "cell_type": "code",
   "execution_count": 4,
   "metadata": {},
   "outputs": [],
   "source": [
    "#mutual information between hidden state and spiketrain\n",
    "zeld_s1=[0.1819,0.1836,0.1850,0.1806,0.1760,0.1582]\n",
    "zeld_s2=[0.1689,0.1708,0.1692,0.1675,0.1627,0.1515]\n",
    "zeld_s3=[0.1740,0.1757,0.1759,0.1758,0.1738,0.1606]\n",
    "zeld_s4=[0.1773,0.1771,0.1782,0.1766,0.1722,0.1628]\n",
    "zeld_s5=[0.1808,0.1815,0.1823,0.1781,0.1728,0.1597]\n",
    "zeld_s6=[0.1661,0.1668,0.1670,0.1647,0.1600,0.1489]\n",
    "zeld_s7=[0.1682,0.1691,0.1682,0.1683,0.1678,0.1560]\n",
    "zeld_s8=[0.1658,0.1671,0.1674,0.1648,0.1609,0.1520]\n",
    "zeld_s9=[0.1712,0.1728,0.1729,0.1723,0.1670,0.1550]\n",
    "zeld_s10=[0.1707,0.1711,0.1705,0.1699,0.1620,0.1511]"
   ]
  },
  {
   "cell_type": "markdown",
   "metadata": {},
   "source": [
    "### plotting"
   ]
  },
  {
   "cell_type": "code",
   "execution_count": 5,
   "metadata": {},
   "outputs": [
    {
     "data": {
      "text/plain": [
       "(0.1, 0.2)"
      ]
     },
     "execution_count": 5,
     "metadata": {},
     "output_type": "execute_result"
    },
    {
     "data": {
      "image/png": "[encoded data removed]",
      "text/plain": [
       "<Figure size 2592x864 with 1 Axes>"
      ]
     },
     "metadata": {
      "needs_background": "light"
     },
     "output_type": "display_data"
    }
   ],
   "source": [
    "figure(figsize=(36,12))\n",
    "subplot(121)\n",
    "plot(rates,zeld_s1,'bo',rates2,zeld_s2,'ro',rates3,zeld_s3,'go',rates4,zeld_s4,'yo',rates5,zeld_s5,'mo',\n",
    "     rates6,zeld_s6,'b^',rates7,zeld_s7,'r^',rates8,zeld_s8,'g^',rates9,zeld_s9,'y^',rates10,zeld_s10,'m^')\n",
    "xlabel('Firing rates (Hz)')\n",
    "ylabel('M.I.')\n",
    "title(\"M.I. - firing rate evolution\")\n",
    "ylim((0.1,0.2))"
   ]
  },
  {
   "cell_type": "markdown",
   "metadata": {},
   "source": [
    "# Comments\n",
    "\n",
    "In the first plot (reverse correlation) the m.i. doesnt fall off as rates decrease  but instead increases??? <br>\n",
    "In the second it is ok after a point but at high rates the M.I. increases a bit as rates decrease. <br>\n",
    "\n",
    "**COMMENT**:The MSE errors of your method were of the order of 10^5. Is that ok?"
   ]
  },
  {
   "cell_type": "code",
   "execution_count": null,
   "metadata": {},
   "outputs": [],
   "source": []
  }
 ],
 "metadata": {
  "kernelspec": {
   "display_name": "Python 3",
   "language": "python",
   "name": "python3"
  },
  "language_info": {
   "codemirror_mode": {
    "name": "ipython",
    "version": 3
   },
   "file_extension": ".py",
   "mimetype": "text/x-python",
   "name": "python",
   "nbconvert_exporter": "python",
   "pygments_lexer": "ipython3",
   "version": "3.6.6"
  }
 },
 "nbformat": 4,
 "nbformat_minor": 2
}
