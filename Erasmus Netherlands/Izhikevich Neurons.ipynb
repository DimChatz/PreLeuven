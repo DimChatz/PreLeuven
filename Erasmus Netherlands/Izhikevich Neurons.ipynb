{
 "cells": [
  {
   "cell_type": "markdown",
   "metadata": {},
   "source": [
    "# Notebook for trying out regular spiking (RS) izhikevich neuron\n",
    "First I import all the libraries that I need"
   ]
  },
  {
   "cell_type": "code",
   "execution_count": 1,
   "metadata": {},
   "outputs": [],
   "source": [
    "from brian2 import *\n",
    "import numpy as np\n",
    "import scipy.io as sio\n",
    "%matplotlib inline\n",
    "\n",
    "start_scope()"
   ]
  },
  {
   "cell_type": "markdown",
   "metadata": {},
   "source": [
    "Now we define the important parameters"
   ]
  },
  {
   "cell_type": "code",
   "execution_count": 2,
   "metadata": {},
   "outputs": [],
   "source": [
    "#DECLARATION OF CONSTANTS FOR THE NEURON MODEL\n",
    "\n",
    "a=0.1/msecond\n",
    "b=0.26*pamp/mvolt\n",
    "Vreset=-65*mvolt\n",
    "Vpeak=30*mvolt \n",
    "d=2*pamp\n",
    "\n",
    "\n",
    "#constants for fixing dimensions\n",
    "c1=1*mvolt*ms\n",
    "c2=1*ms\n",
    "c3=1*mvolt/ms\n",
    "c4=1/mvolt*pamp*ms"
   ]
  },
  {
   "cell_type": "markdown",
   "metadata": {},
   "source": [
    "### Equations of Neuron"
   ]
  },
  {
   "cell_type": "code",
   "execution_count": 3,
   "metadata": {
    "scrolled": false
   },
   "outputs": [],
   "source": [
    "#EQUATIONS OF NEURON\n",
    "eqs='''\n",
    "dV/dt=0.04*V*V/c1+5*V/c2+140*c3-(u-I)/c4 : volt\n",
    "du/dt=a*(b*V-u) : amp\n",
    "I: amp\n",
    "'''\n",
    "\n",
    "reset='''\n",
    "V=Vreset\n",
    "u=u+d\n",
    "'''"
   ]
  },
  {
   "cell_type": "markdown",
   "metadata": {},
   "source": [
    "### Neurons and Synapses"
   ]
  },
  {
   "cell_type": "code",
   "execution_count": 4,
   "metadata": {},
   "outputs": [],
   "source": [
    "#creation of neurons\n",
    "#input_rate=12*Hz #arbitrary\n",
    "#PE = PoissonGroup(800, rates=input_rate,dt=0.2*ms)#excitarory\n",
    "#PI = PoissonGroup(200, rates=input_rate,dt=0.2*ms)#inhibitory\n",
    "G=NeuronGroup(1,eqs,threshold='V>Vpeak',dt=0.2*ms,reset=reset,method='euler')\n",
    "\n",
    "#Synapses\n",
    "#weight=0.2*mvolt\n",
    "#S1=Synapses(PE, G, on_pre='V += weight')\n",
    "#S2=Synapses(PI, G, on_pre='V -= weight')\n",
    "#S1.connect()\n",
    "#S2.connect()"
   ]
  },
  {
   "cell_type": "markdown",
   "metadata": {},
   "source": [
    "Reading Input"
   ]
  },
  {
   "cell_type": "code",
   "execution_count": 5,
   "metadata": {},
   "outputs": [],
   "source": [
    "#READING IN THE INPUT CURRENT\n",
    "input_I = sio.loadmat('INPUT_THEORY_new.mat')\n",
    "INPUT = input_I['L']\n",
    "#print(type(INPUT))\n",
    "#print(len(INPUT))\n",
    "#print(INPUT.flatten())"
   ]
  },
  {
   "cell_type": "markdown",
   "metadata": {},
   "source": [
    "Monitors"
   ]
  },
  {
   "cell_type": "code",
   "execution_count": 6,
   "metadata": {},
   "outputs": [],
   "source": [
    "#Monitors\n",
    "M = StateMonitor(G, 'V', record=True,dt=0.1*ms)"
   ]
  },
  {
   "cell_type": "markdown",
   "metadata": {},
   "source": [
    "## running the simulation"
   ]
  },
  {
   "cell_type": "code",
   "execution_count": null,
   "metadata": {},
   "outputs": [],
   "source": [
    "#Running the simulation-writing to txt the current\n",
    "Ihold=0\n",
    "Iscale=5\n",
    "file=open(\"INPUT_RZ.txt\",\"w\")\n",
    "ba = [[1,2],[3,4]]\n",
    "for x in np.nditer(INPUT):\n",
    "    G.I[0]=(Ihold+Iscale*x)*pamp\n",
    "    file.write(str(G.I[0])+\"\\n\")\n",
    "    run(0.1*ms) \n",
    "file.close()"
   ]
  },
  {
   "cell_type": "markdown",
   "metadata": {},
   "source": [
    "### outputs"
   ]
  },
  {
   "cell_type": "code",
   "execution_count": 8,
   "metadata": {},
   "outputs": [],
   "source": [
    "#Output of Voltages to file\n",
    "file = open(\"Voltage_RZ.txt\",\"w\")\n",
    "for x in M.V[0]:\n",
    "    file.write(str(x))\n",
    "    file.write(\"\\n\")\n",
    "file.close()"
   ]
  },
  {
   "cell_type": "markdown",
   "metadata": {},
   "source": [
    "### plots"
   ]
  },
  {
   "cell_type": "code",
   "execution_count": 9,
   "metadata": {
    "scrolled": true
   },
   "outputs": [],
   "source": [
    "#plotting\n",
    "#figure(figsize=(120,40))\n",
    "#subplot(121)\n",
    "#plot(M.t/ms, M.V[0])\n",
    "#xlabel('Time (ms)')\n",
    "#ylabel('V (Volt)')"
   ]
  },
  {
   "cell_type": "markdown",
   "metadata": {},
   "source": [
    "# processing of output files"
   ]
  },
  {
   "cell_type": "code",
   "execution_count": 10,
   "metadata": {},
   "outputs": [
    {
     "name": "stdout",
     "output_type": "stream",
     "text": [
      "Voila\n"
     ]
    }
   ],
   "source": [
    "file1 = open(\"Voltage_RZ.txt\",\"r\")\n",
    "file2 =open(\"VOLTAGE_RZ.txt\",\"w\")\n",
    "for line in file1:\n",
    "    if str(line).find(\"mV\") is not -1:\n",
    "        line=line.replace(\"mV\",\" \")\n",
    "        file2.write(line)\n",
    "    elif str(line).find(\"uV\") is not -1:\n",
    "        line=line.replace(\"uV\",\" \")\n",
    "        line=str(float(line)/1000)\n",
    "        file2.write(line+'\\n')\n",
    "        continue\n",
    "    elif str(line).find(\"V\") is not -1 and str(line).find(\"mV\") is -1 and str(line).find(\"uV\") is -1:\n",
    "        line=line.replace(\"V\",\" \")\n",
    "        line=str(float(line)*1000)\n",
    "        file2.write(line+\"\\n\")\n",
    "        continue\n",
    "file1.close()\n",
    "file2.close()\n",
    "print(\"Voila\")"
   ]
  },
  {
   "cell_type": "markdown",
   "metadata": {},
   "source": [
    "### input for creating spiketrain files"
   ]
  },
  {
   "cell_type": "code",
   "execution_count": 11,
   "metadata": {},
   "outputs": [],
   "source": [
    "file1=open(\"VOLTAGE_RZ.txt\",\"r\")\n",
    "file2=open(\"VOLT_RZ.txt\",\"w\")\n",
    "for x in file1:   \n",
    "    if float(x)==-65.:      \n",
    "        file2.write(\"1\"+'\\n')\n",
    "    else:\n",
    "        file2.write(\"0\"+'\\n')"
   ]
  },
  {
   "cell_type": "markdown",
   "metadata": {},
   "source": [
    "### Processing input file"
   ]
  },
  {
   "cell_type": "code",
   "execution_count": 17,
   "metadata": {},
   "outputs": [],
   "source": [
    "file1 = open(\"INPUT_RZ.txt\",\"r\")\n",
    "file2 =open(\"INput_RZ.txt\",\"w\")\n",
    "for line in file1:\n",
    "    if str(line).find(\"pA\") is not -1:\n",
    "        line=line.replace(\"pA\",\" \")\n",
    "        file2.write(line)\n",
    "    elif str(line).find(\"fA\") is not -1:\n",
    "        line=line.replace(\"fA\",\" \")\n",
    "        line=str(float(line)/1000)\n",
    "        file2.write(line+'\\n')\n",
    "        continue\n",
    "    elif str(line).find(\"aA\") is not -1:\n",
    "        line=line.replace(\"aA\",\" \")\n",
    "        line=str(float(line)/1000000)\n",
    "        file2.write(line+'\\n')\n",
    "        continue\n",
    "    elif str(line).find(\"nA\") is not -1:\n",
    "        line=line.replace(\"nA\",\" \")\n",
    "        line=str(float(line)*1000)\n",
    "        file2.write(line+\"\\n\")\n",
    "        continue\n",
    "    elif str(line).find(\"A\") is not -1:\n",
    "        line=line.replace(\"A\",\" \")\n",
    "        line=str(float(line)*(10^12))\n",
    "        file2.write(line+\"\\n\")\n",
    "file1.close()\n",
    "file2.close()"
   ]
  },
  {
   "cell_type": "code",
   "execution_count": null,
   "metadata": {},
   "outputs": [],
   "source": []
  }
 ],
 "metadata": {
  "kernelspec": {
   "display_name": "Python 3",
   "language": "python",
   "name": "python3"
  },
  "language_info": {
   "codemirror_mode": {
    "name": "ipython",
    "version": 3
   },
   "file_extension": ".py",
   "mimetype": "text/x-python",
   "name": "python",
   "nbconvert_exporter": "python",
   "pygments_lexer": "ipython3",
   "version": "3.6.6"
  }
 },
 "nbformat": 4,
 "nbformat_minor": 2
}
