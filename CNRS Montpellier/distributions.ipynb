{
 "cells": [
  {
   "cell_type": "markdown",
   "id": "e3e328e3",
   "metadata": {},
   "source": [
    "# Code of distribution fitting"
   ]
  },
  {
   "cell_type": "markdown",
   "id": "cf29f99e",
   "metadata": {},
   "source": [
    "### Importing libraries"
   ]
  },
  {
   "cell_type": "code",
   "execution_count": 50,
   "id": "98b28a7b",
   "metadata": {},
   "outputs": [],
   "source": [
    "import numpy as np\n",
    "import pandas as pd\n",
    "import matplotlib.pyplot as plt\n",
    "import scipy\n",
    "from scipy.stats import beta\n",
    "from scipy.stats import shapiro\n",
    "from scipy.stats import normaltest\n",
    "import statistics\n",
    "pd.set_option('display.max_rows', 120)\n",
    "from fitter import Fitter, get_common_distributions, get_distributions"
   ]
  },
  {
   "cell_type": "markdown",
   "id": "e2493d9a",
   "metadata": {},
   "source": [
    "### Hyperparameters"
   ]
  },
  {
   "cell_type": "code",
   "execution_count": 3,
   "id": "3dc9bd60",
   "metadata": {},
   "outputs": [],
   "source": [
    "filepathH = r'C:/Users/xatzo/Desktop/statistical_UTR/IGH_modified.xlsx'\n",
    "filepathK = r'C:/Users/xatzo/Desktop/statistical_UTR/IGK_modified.xlsx'\n",
    "filepathL = r'C:/Users/xatzo/Desktop/statistical_UTR/IGL_modified.xlsx'"
   ]
  },
  {
   "cell_type": "markdown",
   "id": "9373d883",
   "metadata": {},
   "source": [
    "### Read data"
   ]
  },
  {
   "cell_type": "code",
   "execution_count": 9,
   "id": "18fd66e5",
   "metadata": {},
   "outputs": [],
   "source": [
    "# Read excel\n",
    "dfH = pd.read_excel (filepathH)\n",
    "dfK = pd.read_excel (filepathK)\n",
    "dfL = pd.read_excel (filepathL)"
   ]
  },
  {
   "cell_type": "markdown",
   "id": "7da4ee9a",
   "metadata": {},
   "source": [
    "# Main"
   ]
  },
  {
   "cell_type": "markdown",
   "id": "2b6bc91c",
   "metadata": {},
   "source": [
    "## Preprocessing"
   ]
  },
  {
   "cell_type": "code",
   "execution_count": 42,
   "id": "d43b9210",
   "metadata": {},
   "outputs": [],
   "source": [
    "#IGHV1\n",
    "# Check for correct\n",
    "dfH1 = dfH[dfH[\"GENE\"].str.slice(0,5)==\"IGHV1\"] \n",
    "# Drop bad series\n",
    "dfH1 = dfH1.drop(20)\n",
    "# Main\n",
    "pyr_tata1 = dfH1[\"NT PYRIMIDINE-RICH AND L-PART1-2nd\"] - dfH1[\"NT TATA-BOX AND L-PART1-3rd\"]-dfH1[\"TATA-BOX-3rd\"].apply(len)\n",
    "tata_hept1 = dfH1[\"NT TATA-BOX AND L-PART1-3rd\"] - dfH1[\"NT HEPTA AND L-PART1\"]-7\n",
    "hept_oct1 = dfH1[\"NT HEPTA AND L-PART1\"] - dfH1[\"NT 8MER AND L-PART1\"]-8\n",
    "oct_tata1 = dfH1[\"NT 8MER AND L-PART1\"] - dfH1[\"NT TATA-BOX AND L-PART1\"]-dfH1[\"TATA-BOX\"].apply(len)\n",
    "tata_L1 = dfH1[\"NT TATA-BOX AND L-PART1\"]\n",
    "\n",
    "#IGHV2\n",
    "dfH2 = dfH[dfH[\"GENE\"].str.slice(0,5)==\"IGHV2\"] \n",
    "hept_oct2 = dfH2[\"NT HEPTA AND L-PART1\"] - dfH2[\"NT 8MER AND L-PART1\"]-8\n",
    "oct_tata2 = dfH2[\"NT 8MER AND L-PART1\"] - dfH2[\"NT TATA-BOX AND L-PART1\"]-dfH1[\"TATA-BOX\"].apply(len)\n",
    "tata_L2 = dfH2[\"NT TATA-BOX AND L-PART1\"]\n",
    "\n",
    "#IGHV3\n",
    "dfH3 = dfH[dfH[\"GENE\"].str.slice(0,5)==\"IGHV3\"] \n",
    "dfH3 = dfH3.drop(68)\n",
    "dfH3 = dfH3.drop(51)\n",
    "dfH3 = dfH3.drop(50)\n",
    "dfH3 = dfH3.drop(44)\n",
    "dfH3 = dfH3.drop(34)\n",
    "pyr_hept3 = dfH3[\"NT PYRIMIDINE-RICH AND L-PART1-2nd\"]-dfH3[\"NT HEPTA AND L-PART1\"]-7\n",
    "hept_pyr3 = dfH3[\"NT HEPTA AND L-PART1\"]-dfH3[\"NT PYRIMIDINE-RICH AND L-PART1\"]-dfH3[\"PYRIMIDINE-RICH-2nd\"].apply(len)\n",
    "pyr_tat3 = dfH3[\"NT PYRIMIDINE-RICH AND L-PART1\"]-dfH3[\"NT TATA-BOX AND L-PART1-2nd\"]-dfH3[\"TATA-BOX-2nd\"].apply(len)\n",
    "tat_oct3 = dfH3[\"NT TATA-BOX AND L-PART1-2nd\"]-dfH3[\"NT 8MER AND L-PART1\"]-8\n",
    "oct_tata3 = dfH3[\"NT 8MER AND L-PART1\"]-dfH3[\"NT TATA-BOX AND L-PART1\"]-dfH3[\"TATA-BOX\"].apply(len)\n",
    "tata_L3 = dfH3[\"NT TATA-BOX AND L-PART1\"]\n",
    "\n",
    "#IGHV4\n",
    "dfH4 = dfH[dfH[\"GENE\"].str.slice(0,5)==\"IGHV4\"] \n",
    "pyr_hept4 = dfH4[\"NT PYRIMIDINE-RICH AND L-PART1-2nd\"]-dfH4[\"NT HEPTA AND L-PART1\"]-7\n",
    "hept_pyr4 = dfH4[\"NT HEPTA AND L-PART1\"]-dfH4[\"NT PYRIMIDINE-RICH AND L-PART1\"]-dfH4[\"PYRIMIDINE-RICH-2nd\"].apply(len)\n",
    "pyr_oct4 = dfH4[\"NT PYRIMIDINE-RICH AND L-PART1\"]-dfH4[\"NT 8MER AND L-PART1\"]-8\n",
    "oct_tata4 = dfH4[\"NT 8MER AND L-PART1\"]-dfH4[\"NT TATA-BOX AND L-PART1\"]-dfH4[\"TATA-BOX\"].apply(len)\n",
    "tata_ebox4 = dfH4[\"NT TATA-BOX AND L-PART1\"]-dfH4[\"NT E-BOX AND L-PART1\"]-dfH4[\"E-BOX\"].apply(len)\n",
    "ebox_L4 = dfH4[\"NT E-BOX AND L-PART1\"]\n",
    "\n",
    "#IGHV5\n",
    "dfH5 = dfH[dfH[\"GENE\"].str.slice(0,5)==\"IGHV5\"] \n",
    "pyr_hept5 = dfH5[\"NT PYRIMIDINE-RICH AND L-PART1-2nd\"]-dfH5[\"NT HEPTA AND L-PART1\"]-7\n",
    "hept_oct5 = dfH5[\"NT HEPTA AND L-PART1\"]-dfH5[\"NT 8MER AND L-PART1\"]-8\n",
    "oct_ebox5 = dfH5[\"NT 8MER AND L-PART1\"]-dfH5[\"NT E-BOX AND L-PART1-2nd\"]-dfH5[\"E-BOX-2nd\"].apply(len)\n",
    "ebox_tata5 = dfH5[\"NT E-BOX AND L-PART1-2nd\"]-dfH5[\"NT TATA-BOX AND L-PART1\"]-dfH5[\"TATA-BOX\"].apply(len)\n",
    "tata_ebox5 = dfH5[\"NT TATA-BOX AND L-PART1\"]-dfH5[\"NT E-BOX AND L-PART1\"]-dfH5[\"E-BOX\"].apply(len)\n",
    "ebox_L5 = dfH5[\"NT E-BOX AND L-PART1\"]\n",
    "\n",
    "#IGHV6\n",
    "dfH6 = dfH[dfH[\"GENE\"].str.slice(0,5)==\"IGHV6\"] \n",
    "pyr_tata6 = dfH6[\"NT PYRIMIDINE-RICH AND L-PART1-2nd\"] - dfH6[\"NT TATA-BOX AND L-PART1-3rd\"]-dfH6[\"TATA-BOX-3rd\"].apply(len)\n",
    "tata_hept6 = dfH6[\"NT TATA-BOX AND L-PART1-3rd\"] - dfH6[\"NT HEPTA AND L-PART1\"]-7\n",
    "hept_oct6 = dfH6[\"NT HEPTA AND L-PART1\"] - dfH6[\"NT 8MER AND L-PART1\"]-8\n",
    "oct_tata6 = dfH6[\"NT 8MER AND L-PART1\"] - dfH6[\"NT TATA-BOX AND L-PART1\"]-dfH6[\"TATA-BOX\"].apply(len)\n",
    "tata_L6 = dfH6[\"NT TATA-BOX AND L-PART1\"]\n",
    "\n",
    "#IGHV7\n",
    "dfH7 = dfH[dfH[\"GENE\"].str.slice(0,5)==\"IGHV7\"] \n",
    "dfH7 = dfH7.drop(125)\n",
    "pyr_tata7 = dfH7[\"NT PYRIMIDINE-RICH AND L-PART1-2nd\"] - dfH7[\"NT TATA-BOX AND L-PART1-3rd\"]-dfH7[\"TATA-BOX-3rd\"].apply(len)\n",
    "tata_hept7 = dfH7[\"NT TATA-BOX AND L-PART1-3rd\"] - dfH7[\"NT HEPTA AND L-PART1\"]-7\n",
    "hept_oct7 = dfH7[\"NT HEPTA AND L-PART1\"] - dfH7[\"NT 8MER AND L-PART1\"]-8\n",
    "oct_tata7 = dfH7[\"NT 8MER AND L-PART1\"] - dfH7[\"NT TATA-BOX AND L-PART1\"]-dfH7[\"TATA-BOX\"].apply(len)\n",
    "tata_L7 = dfH7[\"NT TATA-BOX AND L-PART1\"]"
   ]
  },
  {
   "cell_type": "markdown",
   "id": "282d7da9",
   "metadata": {},
   "source": [
    "### p value for gaussian"
   ]
  },
  {
   "cell_type": "markdown",
   "id": "8eee9a16",
   "metadata": {},
   "source": [
    "IGHV1"
   ]
  },
  {
   "cell_type": "code",
   "execution_count": 48,
   "id": "3ebabf15",
   "metadata": {},
   "outputs": [
    {
     "name": "stdout",
     "output_type": "stream",
     "text": [
      "3.7031693409517175e-06\n",
      "1.4496423546006554e-06\n",
      "1.1993599169368707e-10\n",
      "4.931699450261169e-17\n",
      "1.0\n",
      "1.998862907874946e-13\n"
     ]
    }
   ],
   "source": [
    "shap_pyr_tat1 = shapiro(pyr_tata1)\n",
    "print(shap_pyr_tat1[1])\n",
    "\n",
    "shap_hept_pyr3 = shapiro(hept_pyr3)\n",
    "print(shap_hept_pyr3[1])\n",
    "\n",
    "shap_pyr_tat3 = shapiro(pyr_tat3)\n",
    "print(shap_pyr_tat3[1])\n",
    "\n",
    "shap_tat_oct3 = shapiro(tat_oct3)\n",
    "print(shap_tat_oct3[1])\n",
    "\n",
    "shap_oct_tat3 = shapiro(oct_tata3)\n",
    "print(shap_oct_tat3[1])\n",
    "\n",
    "shap_tata_L3 = shapiro(tata_L3)\n",
    "print(shap_tata_L3[1])"
   ]
  },
  {
   "cell_type": "markdown",
   "id": "8ed4c747",
   "metadata": {},
   "source": [
    "IGHV3"
   ]
  },
  {
   "cell_type": "code",
   "execution_count": 51,
   "id": "63b59ac6",
   "metadata": {},
   "outputs": [
    {
     "name": "stdout",
     "output_type": "stream",
     "text": [
      "8.797437907915149e-09\n",
      "0.010846242872071825\n",
      "4.71583266956849e-102\n",
      "4.71583266956849e-102\n",
      "0.000156618081726514\n"
     ]
    }
   ],
   "source": [
    "shap_pyr_hept3 = normaltest(pyr_hept3)\n",
    "print(shap_pyr_hept3[1])\n",
    "\n",
    "shap_tat_hept1 = normaltest(tata_hept1)\n",
    "print(shap_tat_hept1[1])\n",
    "\n",
    "shap_hept_oct1 = normaltest(hept_oct1)\n",
    "print(shap_hept_oct1[1])\n",
    "\n",
    "shap_oct_tat1 = normaltest(oct_tata1)\n",
    "print(shap_oct_tat1[1])\n",
    "\n",
    "shap_tata_L1 = normaltest(tata_L1)\n",
    "print(shap_tata_L1[1])"
   ]
  },
  {
   "cell_type": "markdown",
   "id": "711b50f4",
   "metadata": {},
   "source": [
    "### Fit to gaussian"
   ]
  },
  {
   "cell_type": "code",
   "execution_count": null,
   "id": "f2c8c27b",
   "metadata": {},
   "outputs": [],
   "source": [
    "mean, var  = scipy.stats.distributions.norm.fit(gap1)\n",
    "print(mean)\n",
    "print(var)\n",
    "median = statistics.median(gap1)\n",
    "print(median)\n",
    "x = np.linspace(mean - 3*var, mean + 3*var, 100)\n",
    "plt.xlim(mean-4*var, mean+4*var)\n",
    "plt.plot(x, scipy.stats.norm.pdf(x, mean, var))\n",
    "plt.show()"
   ]
  },
  {
   "cell_type": "markdown",
   "id": "fb2aaa4d",
   "metadata": {},
   "source": [
    "### Fit t distribution"
   ]
  },
  {
   "cell_type": "markdown",
   "id": "39bb8436",
   "metadata": {},
   "source": [
    "deg, mean, std = scipy.stats.t.fit(gap1)\n",
    "print(deg)\n",
    "print(mean)\n",
    "print(std)\n",
    "rv = scipy.stats.t(df=deg, loc=mean, scale=std)\n",
    "x = np.linspace(rv.ppf(0.0001), rv.ppf(0.9999), 100)\n",
    "y = rv.pdf(x) \n",
    "plt.xlim(mean-4*std,mean+4*std)\n",
    "plt.plot(x,y)"
   ]
  },
  {
   "cell_type": "code",
   "execution_count": null,
   "id": "e8041014",
   "metadata": {},
   "outputs": [],
   "source": []
  }
 ],
 "metadata": {
  "kernelspec": {
   "display_name": "Python 3 (ipykernel)",
   "language": "python",
   "name": "python3"
  },
  "language_info": {
   "codemirror_mode": {
    "name": "ipython",
    "version": 3
   },
   "file_extension": ".py",
   "mimetype": "text/x-python",
   "name": "python",
   "nbconvert_exporter": "python",
   "pygments_lexer": "ipython3",
   "version": "3.8.11"
  }
 },
 "nbformat": 4,
 "nbformat_minor": 5
}
