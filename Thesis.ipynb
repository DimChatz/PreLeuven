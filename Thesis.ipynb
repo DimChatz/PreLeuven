{
 "cells": [
  {
   "cell_type": "markdown",
   "metadata": {},
   "source": [
    "# Thesis \n",
    "## Deep learning and mammography"
   ]
  },
  {
   "cell_type": "markdown",
   "metadata": {},
   "source": [
    "### libraries"
   ]
  },
  {
   "cell_type": "code",
   "execution_count": 11,
   "metadata": {},
   "outputs": [],
   "source": [
    "import numpy as np\n",
    "import tensorflow as tf\n",
    "import cv2 as cv\n",
    "import glob\n",
    "import os"
   ]
  },
  {
   "cell_type": "markdown",
   "metadata": {},
   "source": [
    "### import images"
   ]
  },
  {
   "cell_type": "code",
   "execution_count": null,
   "metadata": {},
   "outputs": [
    {
     "name": "stdout",
     "output_type": "stream",
     "text": [
      "0\n",
      "haha\n",
      "haha\n",
      "1\n",
      "haha\n",
      "haha\n",
      "2\n",
      "haha\n",
      "haha\n",
      "3\n",
      "haha\n",
      "haha\n",
      "4\n",
      "haha\n",
      "haha\n",
      "5\n",
      "haha\n",
      "haha\n",
      "6\n",
      "haha\n",
      "haha\n",
      "7\n",
      "haha\n",
      "haha\n",
      "8\n",
      "haha\n",
      "haha\n",
      "9\n",
      "haha\n",
      "haha\n",
      "10\n",
      "haha\n",
      "haha\n",
      "11\n",
      "haha\n",
      "haha\n",
      "12\n",
      "haha\n",
      "haha\n",
      "13\n",
      "haha\n",
      "haha\n",
      "14\n",
      "haha\n",
      "haha\n",
      "15\n",
      "haha\n",
      "haha\n",
      "16\n",
      "haha\n",
      "haha\n",
      "17\n",
      "haha\n",
      "haha\n",
      "18\n",
      "haha\n",
      "haha\n",
      "19\n",
      "haha\n",
      "haha\n",
      "20\n",
      "haha\n",
      "haha\n",
      "21\n",
      "haha\n",
      "haha\n",
      "22\n",
      "haha\n",
      "haha\n",
      "23\n",
      "haha\n",
      "haha\n",
      "24\n",
      "haha\n",
      "haha\n",
      "25\n",
      "haha\n",
      "haha\n",
      "26\n",
      "haha\n",
      "haha\n",
      "27\n",
      "haha\n",
      "haha\n",
      "28\n",
      "haha\n",
      "haha\n",
      "29\n",
      "haha\n",
      "haha\n",
      "30\n",
      "haha\n",
      "haha\n",
      "31\n",
      "haha\n",
      "haha\n",
      "32\n",
      "haha\n",
      "haha\n",
      "33\n",
      "haha\n",
      "haha\n",
      "34\n",
      "haha\n",
      "haha\n",
      "35\n",
      "haha\n"
     ]
    }
   ],
   "source": [
    "# initialize array\n",
    "# first dimension is the number of datapoints\n",
    "# second-third dimensions are the width and height of photo\n",
    "# fourth is the classfication to normal benign or malignant\n",
    "# fifth is the x,y dimension of the tumor and its radius\n",
    "ImgArr=np.zeros((317,1024,1024,1,3))\n",
    "\n",
    "#create path to file with data\n",
    "path ='/home/tzikos/Downloads/MIAS/DATA'  \n",
    "all_files = glob.glob(os.path.join(path, \"*.pgm\"))\n",
    "\n",
    "# assign first 3 dimensions of data to matrix\n",
    "for i,f in enumerate(all_files):\n",
    "    print(i)\n",
    "    img=cv.imread(f,0)\n",
    "    print(\"haha\")\n",
    "    for x in range(1024):\n",
    "        for y in range(1024):\n",
    "            ImgArr[i,x,y,:,:]=img[x,y]\n",
    "    print(\"haha\")"
   ]
  },
  {
   "cell_type": "markdown",
   "metadata": {},
   "source": [
    "### import annotations for classification and segmentation"
   ]
  },
  {
   "cell_type": "code",
   "execution_count": null,
   "metadata": {},
   "outputs": [],
   "source": [
    "path ='/home/tzikos/Downloads/MIAS/annotation.txt'\n",
    "f=open(path,'r')\n",
    "\n",
    "for i,line in enumerate(f):\n",
    "    a=line.split()\n",
    "    for z in a:\n",
    "        if a[2]==\"NORM\":\n",
    "            ImgArr[i,:,:,0,:]=0\n",
    "        else if a[3]==\"B\":\n",
    "                ImgArr[i,:,:,0,:]=1\n",
    "                ImgArr[i,:,:,:,0]=a[4]\n",
    "                ImgArr[i,:,:,:,1]=a[5]\n",
    "                ImgArr[i,:,:,:,2]=a[6]\n",
    "        else if a[3]==\"M\":\n",
    "                ImgArr[i,:,:,0,:]=2\n",
    "                ImgArr[i,:,:,:,0]=a[4]\n",
    "                ImgArr[i,:,:,:,1]=a[5]\n",
    "                ImgArr[i,:,:,:,2]=a[6]        "
   ]
  },
  {
   "cell_type": "code",
   "execution_count": null,
   "metadata": {},
   "outputs": [],
   "source": []
  }
 ],
 "metadata": {
  "kernelspec": {
   "display_name": "Python 3",
   "language": "python",
   "name": "python3"
  },
  "language_info": {
   "codemirror_mode": {
    "name": "ipython",
    "version": 3
   },
   "file_extension": ".py",
   "mimetype": "text/x-python",
   "name": "python",
   "nbconvert_exporter": "python",
   "pygments_lexer": "ipython3",
   "version": "3.8.5"
  }
 },
 "nbformat": 4,
 "nbformat_minor": 4
}
